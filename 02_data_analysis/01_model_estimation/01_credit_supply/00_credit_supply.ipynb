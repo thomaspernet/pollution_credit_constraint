{
 "cells": [
  {
   "cell_type": "markdown",
   "metadata": {
    "kernel": "SoS"
   },
   "source": [
    "# US Name\n",
    "Estimate SO2 emission as a function of  period and others variables\n",
    "\n",
    "\n",
    "# Description\n",
    "\n",
    "- Effect of credit supply\n",
    "\n",
    "## Variables\n",
    "### Target\n",
    "\n",
    "SO2 emission\n",
    "\n",
    "### Features\n",
    "\n",
    "- credit_supply\n",
    "- credit_supply_long_term\n",
    "- credit_supply_short_ term\n",
    "- share_ big bank_loan\n",
    "- share_big_loan\n",
    "\n",
    "## Complementary information\n",
    "\n",
    "Title: Add credit supply\n",
    "Use the new variables such as credit supply in the model to interact with FYP and period\n",
    "Add tfp?\n",
    "\n",
    "# Metadata\n",
    "\n",
    "- Key: 171_Pollution_and_Credit_Constraint\n",
    "- Epic: Models\n",
    "- US: Credit supply\n",
    "- Task tag: #data-analysis, #credit-supply\n",
    "- Analytics reports: \n",
    "\n",
    "# Input Cloud Storage\n",
    "\n",
    "## Table/file\n",
    "\n",
    "**Name**\n",
    "\n",
    "- https://github.com/thomaspernet/pollution_credit_constraint/blob/master/01_data_preprocessing/02_transform_tables/00_credit_constraint_industry.md\n",
    "\n",
    "**Github**\n",
    "\n",
    "- fin_dep_pollution_baseline_industry\n",
    "\n"
   ]
  },
  {
   "cell_type": "markdown",
   "metadata": {
    "kernel": "SoS"
   },
   "source": [
    "# Connexion server"
   ]
  },
  {
   "cell_type": "code",
   "execution_count": null,
   "metadata": {
    "kernel": "SoS"
   },
   "outputs": [],
   "source": [
    "from awsPy.aws_authorization import aws_connector\n",
    "from awsPy.aws_s3 import service_s3\n",
    "from awsPy.aws_glue import service_glue\n",
    "from pathlib import Path\n",
    "import pandas as pd\n",
    "import numpy as np\n",
    "#import seaborn as sns\n",
    "import os, shutil, json\n",
    "import sys\n",
    "\n",
    "path = os.getcwd()\n",
    "parent_path = str(Path(path).parent.parent.parent)\n",
    "\n",
    "\n",
    "name_credential = 'financial_dep_SO2_accessKeys.csv'\n",
    "region = 'eu-west-2'\n",
    "bucket = 'datalake-london'\n",
    "path_cred = \"{0}/creds/{1}\".format(parent_path, name_credential)"
   ]
  },
  {
   "cell_type": "code",
   "execution_count": null,
   "metadata": {
    "kernel": "SoS"
   },
   "outputs": [],
   "source": [
    "con = aws_connector.aws_instantiate(credential = path_cred,\n",
    "                                       region = region)\n",
    "client= con.client_boto()\n",
    "s3 = service_s3.connect_S3(client = client,\n",
    "                      bucket = bucket, verbose = False)\n",
    "glue = service_glue.connect_glue(client = client) "
   ]
  },
  {
   "cell_type": "code",
   "execution_count": null,
   "metadata": {
    "kernel": "SoS"
   },
   "outputs": [],
   "source": [
    "pandas_setting = True\n",
    "if pandas_setting:\n",
    "    #cm = sns.light_palette(\"green\", as_cmap=True)\n",
    "    pd.set_option('display.max_columns', None)\n",
    "    pd.set_option('display.max_colwidth', None)"
   ]
  },
  {
   "cell_type": "code",
   "execution_count": null,
   "metadata": {
    "kernel": "SoS",
    "nteract": {
     "transient": {
      "deleting": false
     }
    }
   },
   "outputs": [],
   "source": [
    "os.environ['KMP_DUPLICATE_LIB_OK']='True'\n"
   ]
  },
  {
   "cell_type": "code",
   "execution_count": null,
   "metadata": {
    "kernel": "R"
   },
   "outputs": [],
   "source": [
    "change_target <- function(table){\n",
    "    ## Regime\n",
    "    check_target <- grep(\"periodTRUE:tso2_mandate_c:credit_constraint\", rownames(table$coef))\n",
    "    \n",
    "    if (length(check_target) !=0) {\n",
    "    ## SOE\n",
    "    rownames(table$coefficients)[check_target] <- 'credit_constraint:periodTRUE:tso2_mandate_c'\n",
    "    rownames(table$beta)[check_target] <- 'credit_constraint:periodTRUE:tso2_mandate_c'\n",
    "    } \n",
    "    return (table)\n",
    "}"
   ]
  },
  {
   "cell_type": "markdown",
   "metadata": {
    "kernel": "SoS"
   },
   "source": [
    "# Load tables\n",
    "\n",
    "Since we load the data as a Pandas DataFrame, we want to pass the `dtypes`. We load the schema from Glue to guess the types"
   ]
  },
  {
   "cell_type": "code",
   "execution_count": null,
   "metadata": {
    "kernel": "SoS"
   },
   "outputs": [],
   "source": [
    "db = 'environment'\n",
    "table = 'fin_dep_pollution_baseline_industry'"
   ]
  },
  {
   "cell_type": "code",
   "execution_count": null,
   "metadata": {
    "kernel": "SoS"
   },
   "outputs": [],
   "source": [
    "dtypes = {}\n",
    "schema = (glue.get_table_information(database = db,\n",
    "                           table = table)\n",
    "          ['Table']['StorageDescriptor']['Columns']\n",
    "         )\n",
    "for key, value in enumerate(schema):\n",
    "    if value['Type'] in ['varchar(12)',\n",
    "                         'varchar(3)',\n",
    "                        'varchar(14)', 'varchar(11)']:\n",
    "        format_ = 'string'\n",
    "    elif value['Type'] in ['decimal(21,5)', 'double', 'bigint', 'int', 'float']:\n",
    "        format_ = 'float'\n",
    "    else:\n",
    "        format_ = value['Type'] \n",
    "    dtypes.update(\n",
    "        {value['Name']:format_}\n",
    "    )"
   ]
  },
  {
   "cell_type": "code",
   "execution_count": null,
   "metadata": {
    "kernel": "SoS"
   },
   "outputs": [],
   "source": [
    "download_data = True\n",
    "filename = 'df_{}'.format(table)\n",
    "full_path_filename = 'SQL_OUTPUT_ATHENA/CSV/{}.csv'.format(filename)\n",
    "path_local = os.path.join(str(Path(path).parent.parent.parent), \n",
    "                              \"00_data_catalog/temporary_local_data\")\n",
    "df_path = os.path.join(path_local, filename + '.csv')\n",
    "if download_data:\n",
    "    \n",
    "    s3 = service_s3.connect_S3(client = client,\n",
    "                          bucket = bucket, verbose = False)\n",
    "    query = \"\"\"\n",
    "    SELECT *,\n",
    "    DENSE_RANK() OVER (\n",
    "    ORDER BY \n",
    "      year\n",
    "  ) AS trend,\n",
    "  DENSE_RANK() OVER (\n",
    "    ORDER BY \n",
    "      province_en, year\n",
    "  ) as fe_p_t,\n",
    "  DENSE_RANK() OVER (\n",
    "    ORDER BY \n",
    "      province_en, ind2\n",
    "  ) as fe_p_i\n",
    "  \n",
    "    FROM {}.{}\n",
    "    WHERE so2_intensity > 0\n",
    "    \"\"\".format(db, table)\n",
    "    try:\n",
    "        df = (s3.run_query(\n",
    "            query=query,\n",
    "            database=db,\n",
    "            s3_output='SQL_OUTPUT_ATHENA',\n",
    "            filename=filename,  # Add filename to print dataframe\n",
    "            destination_key='SQL_OUTPUT_ATHENA/CSV',  #Use it temporarily\n",
    "            dtype = dtypes\n",
    "        )\n",
    "              #.assign(\n",
    "              #    trend = lambda x: pd.factorize(x[\"year\"].astype('str')\n",
    "              #                         )[0] + 1\n",
    "              #)\n",
    "                )\n",
    "    except:\n",
    "        pass\n",
    "    s3.download_file(\n",
    "        key = full_path_filename\n",
    "    )\n",
    "    shutil.move(\n",
    "        filename + '.csv',\n",
    "        os.path.join(path_local, filename + '.csv')\n",
    "    )\n",
    "    s3.remove_file(full_path_filename)\n",
    "    df.head()\n",
    "    "
   ]
  },
  {
   "cell_type": "code",
   "execution_count": null,
   "metadata": {
    "kernel": "SoS",
    "nteract": {
     "transient": {
      "deleting": false
     }
    }
   },
   "outputs": [],
   "source": [
    "pd.DataFrame(schema)"
   ]
  },
  {
   "cell_type": "markdown",
   "metadata": {
    "kernel": "SoS",
    "nteract": {
     "transient": {
      "deleting": false
     }
    }
   },
   "source": [
    "## Schema Latex table\n",
    "\n",
    "To rename a variable, please use the following template:\n",
    "\n",
    "```\n",
    "{\n",
    "    'old':'XX',\n",
    "    'new':'XX_1'\n",
    "    }\n",
    "```\n",
    "\n",
    "if you need to pass a latex format with `\\`, you need to duplicate it for instance, `\\text` becomes `\\\\text:\n",
    "\n",
    "```\n",
    "{\n",
    "    'old':'working\\_capital\\_i',\n",
    "    'new':'\\\\text{working capital}_i'\n",
    "    }\n",
    "```\n",
    "\n",
    "Then add it to the key `to_rename`"
   ]
  },
  {
   "cell_type": "code",
   "execution_count": null,
   "metadata": {
    "kernel": "SoS",
    "nteract": {
     "transient": {
      "deleting": false
     }
    }
   },
   "outputs": [],
   "source": [
    "add_to_dic = True\n",
    "if add_to_dic:\n",
    "    if os.path.exists(\"schema_table.json\"):\n",
    "        os.remove(\"schema_table.json\")\n",
    "    data = {'to_rename':[], 'to_remove':[]}\n",
    "    dic_rename =  [\n",
    "        {\n",
    "        'old':'periodTRUE',\n",
    "        'new':'\\\\text{period}'\n",
    "        },\n",
    "        {\n",
    "        'old':'period',\n",
    "        'new':'\\\\text{period}'\n",
    "        },\n",
    "        \n",
    "        ### depd\n",
    "        ###mandate\n",
    "        {\n",
    "        'old':'tso2\\_mandate\\_c',\n",
    "        'new':'\\\\text{S02 mandate}_c'\n",
    "        },\n",
    "        {\n",
    "        'old':'target\\_reduction\\_so2\\_p',\n",
    "        'new':'\\\\text{S02 mandate}_p'\n",
    "        },\n",
    "        {\n",
    "        'old':'target\\_reduction\\_co2\\_p',\n",
    "        'new':'\\\\text{COD mandate}_p'\n",
    "        },\n",
    "        ### financial ratio\n",
    "        {\n",
    "        'old':'total\\_asset',\n",
    "        'new':'\\\\text{total asset}'\n",
    "        },\n",
    "        {\n",
    "        'old':'tangible',\n",
    "        'new':'\\\\text{tangible asset}'\n",
    "        },\n",
    "        {\n",
    "        'old':'investment\\_tot\\_asset',\n",
    "        'new':'\\\\text{investment to asset}'\n",
    "        },\n",
    "        {\n",
    "        'old':'rd\\_tot\\_asset',\n",
    "        'new':'\\\\text{rd to asset}'\n",
    "        },\n",
    "        {\n",
    "        'old':'asset\\_tangibility\\_tot\\_asset',\n",
    "        'new':'\\\\text{asset tangibility}'\n",
    "        },\n",
    "        {\n",
    "        'old':'d\\_avg\\_ij\\_o\\_city\\_mandate',\n",
    "        'new':'\\\\text{relative reduction mandate}_c'\n",
    "        },\n",
    "        ### ind\n",
    "        {\n",
    "        'old':'current\\_ratio',\n",
    "        'new':'\\\\text{current ratio}'\n",
    "        },\n",
    "        {\n",
    "        'old':'lag\\_current\\_ratio',\n",
    "        'new':'\\\\text{current ratio}'\n",
    "        },\n",
    "        {\n",
    "        'old':'quick\\_ratio',\n",
    "        'new':'\\\\text{quick ratio}'\n",
    "        },\n",
    "        {\n",
    "        'old':'lag\\_liabilities\\_tot\\_asset',\n",
    "        'new':'\\\\text{liabilities to asset}'\n",
    "        },\n",
    "        {\n",
    "        'old':'liabilities\\_tot\\_asset',\n",
    "        'new':'\\\\text{liabilities to asset}'\n",
    "        },\n",
    "        {\n",
    "        'old':'sales\\_tot\\_asset',\n",
    "        'new':'\\\\text{sales to asset}'\n",
    "        },\n",
    "        {\n",
    "        'old':'lag\\_sales\\_tot\\_asset',\n",
    "        'new':'\\\\text{sales to asset}'\n",
    "        },\n",
    "        {\n",
    "        'old':'cash\\_tot\\_asset',\n",
    "        'new':'\\\\text{cash to asset}'\n",
    "        },\n",
    "        {\n",
    "        'old':'cashflow\\_tot\\_asset',\n",
    "        'new':'\\\\text{cashflow to asset}'\n",
    "        },\n",
    "        {\n",
    "        'old':'cashflow\\_to\\_tangible',\n",
    "        'new':'\\\\text{cashflow}'\n",
    "        },\n",
    "        {\n",
    "        'old':'lag\\_cashflow\\_to\\_tangible',\n",
    "        'new':'\\\\text{cashflow}'\n",
    "        },\n",
    "        {\n",
    "        'old':'d\\_credit\\_constraintBELOW',\n",
    "        'new':'\\\\text{Fin dep}_{i}'\n",
    "        },\n",
    "        ## control\n",
    "        {\n",
    "        'old':'age + 1',\n",
    "        'new':'\\\\text{age}'\n",
    "        },\n",
    "        {\n",
    "        'old':'export\\_to\\_sale',\n",
    "        'new':'\\\\text{export to sale}'\n",
    "        },\n",
    "        {\n",
    "        'old':'labor\\_capital',\n",
    "        'new':'\\\\text{labor to capital}'\n",
    "        },\n",
    "        ### Supply demand external finance\n",
    "        {\n",
    "        'old':'supply\\_all\\_credit',\n",
    "        'new':'\\\\text{all credit}'\n",
    "        },\n",
    "        {\n",
    "        'old':'lag\\_credit\\_supply\\_short\\_term',\n",
    "        'new':'\\\\text{Short term loan}_{pt}'\n",
    "        },\n",
    "        {\n",
    "        'old':'lag\\_credit\\_supply',\n",
    "        'new':'\\\\text{All loan}_{pt}'\n",
    "        },\n",
    "        {\n",
    "        'old':'lag\\_credit\\_supply\\_long\\_term',\n",
    "        'new':'\\\\text{Long-term loan}_{pt}'\n",
    "        },\n",
    "        {\n",
    "        'old':'fin\\_dev',\n",
    "        'new':'\\\\text{financial development}_{pt}'\n",
    "        },\n",
    "        {\n",
    "        'old':'credit\\_constraint',\n",
    "        'new':'\\\\text{credit constraint}'\n",
    "        },\n",
    "        {\n",
    "        'old':'soe\\_vs\\_priPRIVATE',\n",
    "        'new':'\\\\text{private}'\n",
    "        },\n",
    "        ## TFP\n",
    "        {\n",
    "        'old':'tfp\\_cit',\n",
    "        'new':'\\\\text{TFP}'\n",
    "        },\n",
    "        ### year\n",
    "        {\n",
    "        'old':'year1998',\n",
    "        'new':'\\\\text{1998}'\n",
    "        },\n",
    "        {\n",
    "        'old':'year1999',\n",
    "        'new':'\\\\text{1999}'\n",
    "        },\n",
    "        {\n",
    "        'old':'year2000',\n",
    "        'new':'\\\\text{2000}'\n",
    "        },\n",
    "        {\n",
    "        'old':'year2001',\n",
    "        'new':'\\\\text{2001}'\n",
    "        },\n",
    "        {\n",
    "        'old':'year2002',\n",
    "        'new':'\\\\text{2002}'\n",
    "        },\n",
    "        {\n",
    "        'old':'year2003',\n",
    "        'new':'\\\\text{2003}'\n",
    "        },\n",
    "        {\n",
    "        'old':'year2004',\n",
    "        'new':'\\\\text{2004}'\n",
    "        },\n",
    "        {\n",
    "        'old':'year2005',\n",
    "        'new':'\\\\text{2005}'\n",
    "        },\n",
    "        {\n",
    "        'old':'year2006',\n",
    "        'new':'\\\\text{2006}'\n",
    "        },\n",
    "        {\n",
    "        'old':'year2007',\n",
    "        'new':'\\\\text{2007}'\n",
    "        },\n",
    "        \n",
    "        \n",
    "    ]\n",
    "    \n",
    "\n",
    "    data['to_rename'].extend(dic_rename)\n",
    "    with open('schema_table.json', 'w') as outfile:\n",
    "        json.dump(data, outfile)"
   ]
  },
  {
   "cell_type": "code",
   "execution_count": null,
   "metadata": {
    "kernel": "SoS"
   },
   "outputs": [],
   "source": [
    "sys.path.append(os.path.join(parent_path, 'utils'))\n",
    "import latex.latex_beautify as lb\n",
    "#%load_ext autoreload\n",
    "#%autoreload 2"
   ]
  },
  {
   "cell_type": "code",
   "execution_count": null,
   "metadata": {
    "kernel": "R"
   },
   "outputs": [],
   "source": [
    "options(warn=-1)\n",
    "library(tidyverse)\n",
    "library(lfe)\n",
    "#library(lazyeval)\n",
    "library('progress')\n",
    "path = \"../../../utils/latex/table_golatex.R\"\n",
    "source(path)"
   ]
  },
  {
   "cell_type": "code",
   "execution_count": null,
   "metadata": {
    "kernel": "R"
   },
   "outputs": [],
   "source": [
    "%get df_path\n",
    "df_final <- read_csv(df_path) %>%\n",
    "mutate_if(is.character, as.factor) %>%\n",
    "    mutate_at(vars(starts_with(\"fe\")), as.factor) %>%\n",
    "mutate(\n",
    "    year = relevel(as.factor(year), ref='2001'),\n",
    "    period = relevel(as.factor(period), ref='FALSE'),\n",
    "    polluted_d50i = relevel(as.factor(polluted_d50i), ref='BELOW'),\n",
    "    polluted_d75i = relevel(as.factor(polluted_d75i), ref='BELOW'),\n",
    "    polluted_d80i = relevel(as.factor(polluted_d80i), ref='BELOW'),\n",
    "    polluted_d85i = relevel(as.factor(polluted_d85i), ref='BELOW'),\n",
    "    polluted_d90i = relevel(as.factor(polluted_d90i), ref='BELOW'),\n",
    "    polluted_d95i = relevel(as.factor(polluted_d95i), ref='BELOW'),\n",
    "    polluted_mi = relevel(as.factor(polluted_mi), ref='BELOW'),\n",
    "    d_avg_ij_o_city_mandate = relevel(as.factor(d_avg_ij_o_city_mandate), ref=\"FALSE\"),\n",
    "    fin_dev = 1- share_big_loan,\n",
    "    lag_fin_dev = 1- lag_share_big_loan,\n",
    ")"
   ]
  },
  {
   "cell_type": "code",
   "execution_count": null,
   "metadata": {
    "kernel": "R"
   },
   "outputs": [],
   "source": [
    "head(df_final)"
   ]
  },
  {
   "cell_type": "markdown",
   "metadata": {
    "kernel": "R"
   },
   "source": [
    "Aggregate at the province-industry-year level"
   ]
  },
  {
   "cell_type": "code",
   "execution_count": null,
   "metadata": {
    "kernel": "R"
   },
   "outputs": [],
   "source": [
    "df_agg <- df_final %>%\n",
    "group_by(province_en, ind2, year, period, fe_p_i , fe_t_i , fe_p_t) %>%\n",
    "summarize(\n",
    "    tso2 = sum(tso2),\n",
    "    tcod = sum(tcod),\n",
    "    twaste_water = sum(twaste_water),\n",
    "    output = sum(output),\n",
    "    employment = sum(employment),\n",
    "    capital = sum(capital),\n",
    "    target_reduction_so2_p = max(target_reduction_so2_p),\n",
    "    target_reduction_co2_p = max(target_reduction_co2_p),\n",
    "    lag_credit_supply = max(lag_credit_supply),\n",
    "    lag_credit_supply_long_term = max(lag_credit_supply_long_term),\n",
    "    fin_dev = max(fin_dev),\n",
    "    lag_fin_dev = max(lag_fin_dev),\n",
    "    credit_constraint = max(credit_constraint),\n",
    ") %>%\n",
    "ungroup()%>%\n",
    "mutate(\n",
    "    year = relevel(as.factor(year), ref='2005'),\n",
    "    year1 = relevel(as.factor(year), ref='1998')\n",
    ")\n",
    "\n",
    "head(df_agg)"
   ]
  },
  {
   "cell_type": "markdown",
   "metadata": {
    "kernel": "R"
   },
   "source": [
    "## Variables Definition\n",
    "\n",
    "1. credit_supply: Province-year supply all loans over GDP\n",
    "2. credit_supply_long_term: Province-year supply long term loans over GDP\n",
    "3. fin_dev: Share of non-4-SOCBs' share in credit"
   ]
  },
  {
   "cell_type": "markdown",
   "metadata": {
    "kernel": "SoS"
   },
   "source": [
    "## Table 1:Financial development over time\n",
    "\n",
    "$$\n",
    "\\begin{aligned}\n",
    "\\text{$S O 2_{c k t}=\\alpha$ Financial Dependencies $_{k} \\times \\text{credit supply}_{pt} +\\beta X_{c k t}+\\mu_{c t}+\\gamma_{k t}+\\delta_{c k}+\\epsilon_{c k t}$}\n",
    "\\end{aligned}\n",
    "$$\n",
    "\n",
    "$$\n",
    "\\begin{aligned}\n",
    "\\text{$S O 2_{c k t}=\\alpha$ Financial Dependencies $_{k} \\times \\text{Fin.Dev}_{pt} + +\\beta X_{c k t}+\\mu_{c t}+\\gamma_{k t}+\\delta_{c k}+\\epsilon_{c k t}$}\n",
    "\\end{aligned}\n",
    "$$\n",
    "\n",
    "1. Table 1: SO2 emission reduction, credit supply and financial development\n",
    "  1. All loan interacted with credit constraint\n",
    "  2. Long term loan with credit constraint\n",
    "  3. Financial development with credit constraint\n",
    "\n",
    "**Message**\n",
    "\n",
    "* An increase of supply of credit or improvement of financial development (deregulation of banking sectors) is beneficial for the reduction of SO2 emission\n",
    "  * Deregulation has a stronger effect on constraint sectors than non-constraint → backed by the theory that credit openness is more beneficial for constraint sectors"
   ]
  },
  {
   "cell_type": "markdown",
   "metadata": {
    "kernel": "R"
   },
   "source": [
    "### City level"
   ]
  },
  {
   "cell_type": "code",
   "execution_count": null,
   "metadata": {
    "kernel": "SoS",
    "nteract": {
     "transient": {
      "deleting": false
     }
    }
   },
   "outputs": [],
   "source": [
    "folder = 'Tables_0'\n",
    "table_nb = 1\n",
    "table = 'table_{}'.format(table_nb)\n",
    "path = os.path.join(folder, table + '.txt')\n",
    "if os.path.exists(folder) == False:\n",
    "        os.mkdir(folder)\n",
    "for ext in ['.txt', '.tex', '.pdf']:\n",
    "    x = [a for a in os.listdir(folder) if a.endswith(ext)]\n",
    "    [os.remove(os.path.join(folder, i)) for i in x]"
   ]
  },
  {
   "cell_type": "code",
   "execution_count": null,
   "metadata": {
    "kernel": "SoS"
   },
   "outputs": [],
   "source": [
    "query = \"\"\"\n",
    "SELECT ind2, SUM(tso2) as sum_tso2\n",
    "FROM fin_dep_pollution_baseline_industry \n",
    "WHERE year = '1998'\n",
    "GROUP BY ind2\n",
    "ORDER BY sum_tso2\n",
    "\"\"\"\n",
    "list_polluted = s3.run_query(\n",
    "            query=query,\n",
    "            database=db,\n",
    "            s3_output='SQL_OUTPUT_ATHENA',\n",
    "            filename='polluted',  # Add filename to print dataframe\n",
    "            destination_key='SQL_OUTPUT_ATHENA/CSV',  #Use it temporarily\n",
    "        )\n",
    "list_polluted"
   ]
  },
  {
   "cell_type": "code",
   "execution_count": null,
   "metadata": {
    "kernel": "R"
   },
   "outputs": [],
   "source": [
    "%get path table\n",
    "to_remove <- c(\n",
    "    24, 21, 23,#, 42,18,\n",
    "    33, 32, 26#, 31,17\n",
    ")\n",
    "## SO2\n",
    "t_0 <- felm(log(tso2) ~  \n",
    "            log(output) + log(employment) + log(capital) + \n",
    "            log(lag_credit_supply) * credit_constraint\n",
    "           |  fe_c_i + fe_t_i + fe_c_t|0 | geocode4_corr + ind2, df_final%>% filter(tso2 > 500),\n",
    "            exactDOF = TRUE)\n",
    "\n",
    "t_1 <- felm(log(tso2) ~  \n",
    "            log(output) + log(employment) + log(capital) + \n",
    "            log(lag_credit_supply_long_term) * credit_constraint\n",
    "           |  fe_c_i + fe_t_i + fe_c_t|0 | geocode4_corr + ind2, df_final%>% filter(tso2 > 500),\n",
    "            exactDOF = TRUE)\n",
    "\n",
    "t_2 <- felm(log(tso2) ~  \n",
    "            log(output) + log(employment) + log(capital) + \n",
    "            log(fin_dev) * credit_constraint\n",
    "           |  fe_c_i + fe_t_i + fe_c_t|0 | geocode4_corr+ ind2, df_final%>% filter(tso2 > 500),\n",
    "            exactDOF = TRUE)\n",
    "\n",
    "t_3 <- felm(log(tso2) ~  \n",
    "            log(output) + log(employment) + log(capital) + \n",
    "            log(lag_credit_supply) * credit_constraint\n",
    "           |  fe_c_i + fe_t_i + fe_c_t|0 | geocode4_corr + ind2, df_final%>% filter(\n",
    "               tso2 > 500 & !(ind2 %in% to_remove)),\n",
    "            exactDOF = TRUE)\n",
    "\n",
    "t_4 <- felm(log(tso2) ~  \n",
    "            log(output) + log(employment) + log(capital) + \n",
    "            log(lag_credit_supply_long_term) * credit_constraint\n",
    "           |  fe_c_i + fe_t_i + fe_c_t|0 | geocode4_corr + ind2, df_final%>% filter(tso2 > 500 & !(ind2 %in% to_remove)),\n",
    "            exactDOF = TRUE)\n",
    "\n",
    "t_5 <- felm(log(tso2) ~  \n",
    "            log(output) + log(employment) + log(capital) + \n",
    "            log(fin_dev) * credit_constraint\n",
    "           |  fe_c_i + fe_t_i + fe_c_t|0 | geocode4_corr+ ind2, df_final%>% filter(tso2 > 500 & !(ind2 %in% to_remove)),\n",
    "            exactDOF = TRUE)\n",
    "            \n",
    "dep <- \"Dependent variable: Pollution emission\"\n",
    "fe1 <- list(\n",
    "    c(\"City-industry\", \"Yes\", \"Yes\", \"Yes\", \"Yes\", \"Yes\", \"Yes\"\n",
    "     ),\n",
    "    c(\"Time-industry\", \"Yes\", \"Yes\", \"Yes\", \"Yes\", \"Yes\", \"Yes\"\n",
    "     ),\n",
    "    c(\"City-Time\", \"Yes\", \"Yes\", \"Yes\", \"Yes\", \"Yes\", \"Yes\"\n",
    "     )\n",
    "             )\n",
    "\n",
    "table_1 <- go_latex(list(\n",
    "    t_0,t_1, t_2, t_3, t_4, t_5\n",
    "),\n",
    "    title=\"Pollution emission, credit supply and financial development\",\n",
    "    dep_var = dep,\n",
    "    addFE=fe1,\n",
    "    save=TRUE,\n",
    "    note = FALSE,\n",
    "    name=path\n",
    ") "
   ]
  },
  {
   "cell_type": "code",
   "execution_count": null,
   "metadata": {
    "kernel": "SoS"
   },
   "outputs": [],
   "source": [
    "tbe1  = \"This table estimates eq(1). \" \\\n",
    "\"All loan is the share of total loan normalised by the GDP. \" \\\n",
    "\"Long-term loan is the share of long term loan normalised by the GDP. \" \\\n",
    "\"Financial development is defined as the share of non-4-SOCBs' share in credit) \" \\\n",
    "\"Columns 4 to 6 exclude the top and bottom 3 most polluted sectors in 1998 \" \\\n",
    "\"\\sym{*} Significance at the 10\\%, \\sym{**} Significance at the 5\\%, \\sym{***} Significance at the 1\\%.\" \\\n",
    "\"Heteroskedasticity-robust standard errors \" \\\n",
    "\"clustered at the city-industry level appear in parentheses.\"\n",
    "\n",
    "lb.beautify(table_number = table_nb,\n",
    "            #reorder_var = reorder,\n",
    "            #multi_lines_dep = multi_lines_dep,\n",
    "            #new_row= new_r,\n",
    "            #multicolumn = multicolumn,\n",
    "            table_nte = tbe1,\n",
    "            jupyter_preview = True,\n",
    "            resolution = 200,\n",
    "            folder = folder)"
   ]
  },
  {
   "cell_type": "markdown",
   "metadata": {
    "kernel": "SoS"
   },
   "source": [
    "## Table 2: heterogeneous effect: SOE vs Private\n",
    "\n",
    "City ownership are available for the following variables:\n",
    "\n",
    "- output\n",
    "- capital\n",
    "- employment\n",
    "- sales\n",
    "\n",
    "**How is it constructed**\n",
    "\n",
    "- city ownership public vs private\n",
    "    - Aggregate output by ownership and city\n",
    "    - A given city will have SOE asset tangibility and PRIVATE asset tangibility [output, employment, capital and sales]\n",
    "    - If asset tangibility SOE above Private then city is dominated by SOE\n",
    "\n",
    "Notebook reference: \n",
    "\n",
    "https://github.com/thomaspernet/Financial_dependency_pollution/blob/master/02_data_analysis/01_model_estimation/00_estimate_fin_ratio/03_so2_fin_ratio_sector.md#table-3-heterogeneity-effect-city-ownership-public-vs-private-domestic-vs-foreign"
   ]
  },
  {
   "cell_type": "code",
   "execution_count": null,
   "metadata": {
    "kernel": "SoS"
   },
   "outputs": [],
   "source": [
    "query = \"\"\"\n",
    "WITH test AS (\n",
    "  SELECT \n",
    "    *,\n",
    "    CASE WHEN LENGTH(cic) = 4 THEN substr(cic, 1, 2) ELSE concat(\n",
    "      '0', \n",
    "      substr(cic, 1, 1)\n",
    "    ) END AS indu_2,\n",
    "    CASE WHEN ownership = 'SOE' THEN 'SOE' ELSE 'PRIVATE' END AS soe_vs_pri,\n",
    "    CASE WHEN ownership in ('HTM', 'FOREIGN') THEN 'FOREIGN' ELSE 'DOMESTIC' END AS for_vs_dom \n",
    "  FROM \n",
    "    firms_survey.asif_firms_prepared \n",
    "    INNER JOIN (\n",
    "      SELECT \n",
    "        extra_code, \n",
    "        geocode4_corr \n",
    "      FROM \n",
    "        chinese_lookup.china_city_code_normalised \n",
    "      GROUP BY \n",
    "        extra_code, \n",
    "        geocode4_corr\n",
    "    ) as no_dup_citycode ON asif_firms_prepared.citycode = no_dup_citycode.extra_code\n",
    "  \n",
    ") \n",
    "SELECT year, soe, geocode4_corr, indu_2,SUM(output) as output, SUM(employ) as employ, SUM(captal) as capital\n",
    "FROM (\n",
    "SELECT *,\n",
    "CASE WHEN ownership in ('SOE') THEN 'SOE' ELSE 'PRIVATE' END AS soe\n",
    "FROM test \n",
    "  )\n",
    "  GROUP BY soe, geocode4_corr, year, indu_2\n",
    "\"\"\"\n",
    "df = (s3.run_query(\n",
    "        query=query,\n",
    "        database=db,\n",
    "        s3_output='SQL_OUTPUT_ATHENA',\n",
    "        filename=\"test\",  # Add filename to print dataframe\n",
    "        destination_key='SQL_OUTPUT_ATHENA/CSV',  #Use it temporarily\n",
    "        dtype = dtypes\n",
    "    )\n",
    "     )"
   ]
  },
  {
   "cell_type": "code",
   "execution_count": null,
   "metadata": {
    "kernel": "SoS"
   },
   "outputs": [],
   "source": [
    "import janitor"
   ]
  },
  {
   "cell_type": "code",
   "execution_count": null,
   "metadata": {
    "kernel": "SoS"
   },
   "outputs": [],
   "source": [
    "for v in ['output','employ', 'capital']:\n",
    "    for t in [.5, .4, .3, .2, .1]:\n",
    "        df_ = (\n",
    "            df\n",
    "            .set_index(['year','indu_2', 'soe', 'geocode4_corr'])\n",
    "            .unstack(-2)\n",
    "            .assign(\n",
    "                soe_dominated = lambda x: x[(v, 'SOE')] > x[(v, 'PRIVATE')],\n",
    "                share_soe = lambda x: x[(v, 'SOE')] / (x[(v, 'SOE')] + x[(v, 'PRIVATE')])\n",
    "            )\n",
    "            #.loc[lambda x: x['soe_dominated'].isin([True])]\n",
    "            .collapse_levels(\"_\")\n",
    "            .reset_index()\n",
    "            [['year','geocode4_corr', 'indu_2', \"soe_dominated\", \n",
    "             'share_soe'\n",
    "             ]]\n",
    "            .loc[lambda x: x['year'].isin([\"2002\"])]\n",
    "            .drop(columns = ['year'])\n",
    "            .rename(columns = {'indu_2':'ind2'})\n",
    "            .loc[lambda x: x['share_soe']> t]\n",
    "            #.groupby(['soe_dominated'])\n",
    "            #.agg({'share_soe':'describe'})\n",
    "            .to_csv('list_city_soe_{}_{}.csv'.format(v, t))\n",
    "        )"
   ]
  },
  {
   "cell_type": "code",
   "execution_count": null,
   "metadata": {
    "kernel": "SoS"
   },
   "outputs": [],
   "source": [
    "query = \"\"\"\n",
    "WITH test AS (\n",
    "  SELECT \n",
    "    *,\n",
    "    CASE WHEN LENGTH(cic) = 4 THEN substr(cic, 1, 2) ELSE concat(\n",
    "      '0', \n",
    "      substr(cic, 1, 1)\n",
    "    ) END AS indu_2,\n",
    "    CASE WHEN ownership = 'SOE' THEN 'SOE' ELSE 'PRIVATE' END AS soe_vs_pri,\n",
    "    CASE WHEN ownership in ('HTM', 'FOREIGN') THEN 'FOREIGN' ELSE 'DOMESTIC' END AS for_vs_dom \n",
    "  FROM \n",
    "    firms_survey.asif_firms_prepared \n",
    "    INNER JOIN (\n",
    "      SELECT \n",
    "        extra_code, \n",
    "        geocode4_corr \n",
    "      FROM \n",
    "        chinese_lookup.china_city_code_normalised \n",
    "      GROUP BY \n",
    "        extra_code, \n",
    "        geocode4_corr\n",
    "    ) as no_dup_citycode ON asif_firms_prepared.citycode = no_dup_citycode.extra_code\n",
    "  \n",
    ") \n",
    "SELECT year, foreign, geocode4_corr, indu_2,SUM(output) as output, SUM(employ) as employ, SUM(captal) as capital\n",
    "FROM (\n",
    "SELECT *,\n",
    "CASE WHEN ownership in ('HTM', 'FOREIGN') THEN 'FOREIGN' ELSE 'DOMESTIC' END AS foreign\n",
    "FROM test \n",
    "  )\n",
    "  GROUP BY foreign, geocode4_corr, year, indu_2\n",
    "\n",
    "\"\"\"\n",
    "df = (s3.run_query(\n",
    "        query=query,\n",
    "        database=db,\n",
    "        s3_output='SQL_OUTPUT_ATHENA',\n",
    "        filename=\"test\",  # Add filename to print dataframe\n",
    "        destination_key='SQL_OUTPUT_ATHENA/CSV',  #Use it temporarily\n",
    "        dtype = dtypes\n",
    "    )\n",
    "     )"
   ]
  },
  {
   "cell_type": "code",
   "execution_count": null,
   "metadata": {
    "kernel": "SoS"
   },
   "outputs": [],
   "source": [
    "for v in ['output','employ', 'capital']:\n",
    "    for t in [.5, .4, .3, .2, .1]:\n",
    "        (\n",
    "            df\n",
    "            .set_index(['year','indu_2', 'foreign', 'geocode4_corr'])\n",
    "            .unstack(-2)\n",
    "            .assign(\n",
    "                for_dominated = lambda x: x[(v, 'FOREIGN')] > x[(v, 'DOMESTIC')],\n",
    "                share_for = lambda x: x[(v, 'FOREIGN')] / (x[(v, 'FOREIGN')] + x[(v, 'DOMESTIC')])\n",
    "            )\n",
    "            .collapse_levels(\"_\")\n",
    "            .reset_index()\n",
    "            [['year','geocode4_corr', 'indu_2', \"for_dominated\", \n",
    "             'share_for'\n",
    "             ]]\n",
    "            .loc[lambda x: x['year'].isin([\"2002\"])]\n",
    "            .drop(columns = ['year'])\n",
    "            .rename(columns = {'indu_2':'ind2'})\n",
    "            .loc[lambda x: x['share_for']> t]\n",
    "            #.groupby(['soe_dominated'])\n",
    "            #.agg({'share_soe':'describe'})\n",
    "            .to_csv('list_city_for_{}_{}.csv'.format(v, t))\n",
    "        )"
   ]
  },
  {
   "cell_type": "markdown",
   "metadata": {
    "kernel": "SoS"
   },
   "source": [
    "### SO2"
   ]
  },
  {
   "cell_type": "code",
   "execution_count": null,
   "metadata": {
    "kernel": "SoS"
   },
   "outputs": [],
   "source": [
    "folder = 'Tables_1'\n",
    "table_nb = 2\n",
    "table = 'table_{}'.format(table_nb)\n",
    "path = os.path.join(folder, table + '.txt')\n",
    "if os.path.exists(folder) == False:\n",
    "        os.mkdir(folder)\n",
    "for ext in ['.txt', '.pdf']:\n",
    "    x = [a for a in os.listdir(folder) if a.endswith(ext)]\n",
    "    [os.remove(os.path.join(folder, i)) for i in x]"
   ]
  },
  {
   "cell_type": "code",
   "execution_count": null,
   "metadata": {
    "kernel": "R"
   },
   "outputs": [],
   "source": [
    "%get path table\n",
    "df_soe <- df_final %>% inner_join(read_csv('list_city_soe_employ_0.3.csv'))\n",
    "df_priv <- df_final %>% left_join(read_csv('list_city_soe_employ_0.3.csv')) %>% filter(is.na(share_soe))\n",
    "### CITY DOMINATED\n",
    "t_0 <- felm(log(tso2) ~  \n",
    "            log(output) + log(employment) + log(capital) + \n",
    "            log(lag_credit_supply) * credit_constraint\n",
    "           |  fe_c_i + fe_t_i + fe_c_t|0 | geocode4_corr + ind2, df_soe%>% filter(tso2 > 500),\n",
    "            exactDOF = TRUE)\n",
    "\n",
    "t_1 <- felm(log(tso2) ~  \n",
    "            log(output) + log(employment) + log(capital) + \n",
    "            log(lag_credit_supply) * credit_constraint\n",
    "           |  fe_c_i + fe_t_i + fe_c_t|0 | geocode4_corr + ind2, df_priv%>% filter(tso2 > 500),\n",
    "            exactDOF = TRUE)\n",
    "\n",
    "t_2 <- felm(log(tso2) ~  \n",
    "            log(output) + log(employment) + log(capital) + \n",
    "            log(lag_credit_supply_long_term) * credit_constraint\n",
    "           |  fe_c_i + fe_t_i + fe_c_t|0 | geocode4_corr + ind2, df_soe%>% filter(tso2 > 500),\n",
    "            exactDOF = TRUE)\n",
    "\n",
    "t_3 <- felm(log(tso2) ~  \n",
    "            log(output) + log(employment) + log(capital) + \n",
    "            log(lag_credit_supply_long_term) * credit_constraint\n",
    "           |  fe_c_i + fe_t_i + fe_c_t|0 | geocode4_corr + ind2, df_priv%>% filter(tso2 > 500),\n",
    "            exactDOF = TRUE)\n",
    "\n",
    "t_4 <- felm(log(tso2) ~  \n",
    "            log(output) + log(employment) + log(capital) + \n",
    "            log(fin_dev) * credit_constraint\n",
    "           |  fe_c_i + fe_t_i + fe_c_t|0 | geocode4_corr+ ind2, df_soe%>% filter(tso2 > 500),\n",
    "            exactDOF = TRUE)\n",
    "\n",
    "t_5 <- felm(log(tso2) ~  \n",
    "            log(output) + log(employment) + log(capital) + \n",
    "            log(fin_dev) * credit_constraint\n",
    "           |  fe_c_i + fe_t_i + fe_c_t|0 | geocode4_corr+ ind2, df_priv%>% filter(tso2 > 500),\n",
    "            exactDOF = TRUE)\n",
    "dep <- \"Dependent variable: Pollution emission\"\n",
    "fe1 <- list(\n",
    "    c(\"City-industry\", \"Yes\", \"Yes\", \"Yes\", \"Yes\", \"Yes\", \"Yes\"),\n",
    "    c(\"Time-industry\", \"Yes\", \"Yes\", \"Yes\", \"Yes\", \"Yes\", \"Yes\"),\n",
    "    c(\"City-Time\", \"Yes\", \"Yes\", \"Yes\", \"Yes\", \"Yes\", \"Yes\")\n",
    "             )\n",
    "\n",
    "table_1 <- go_latex(list(\n",
    "    t_0,t_1, t_2, t_3, t_4, t_5\n",
    "),\n",
    "    title=\"Pollution emission, credit supply and financial development, City dominated public/private\",\n",
    "    dep_var = dep,\n",
    "    addFE=fe1,\n",
    "    save=TRUE,\n",
    "    note = FALSE,\n",
    "    name=path\n",
    ") "
   ]
  },
  {
   "cell_type": "code",
   "execution_count": null,
   "metadata": {
    "kernel": "SoS"
   },
   "outputs": [],
   "source": [
    "tbe1  = \"All loan is the share of total loan normalised by the GDP. \" \\\n",
    "\"Long-term loan is the share of long term loan normalised by the GDP. \" \\\n",
    "\"Financial development is defined as the share of non-4-SOCBs' share in credit. \" \\\n",
    "\"Cities split are based on the presence of SOEs firms. 'Above' means the total output produced by \"\\\n",
    "\"SOEs firms exceed the output of private firms. \" \\\n",
    "\"\\sym{*} Significance at the 10\\%, \\sym{**} Significance at the 5\\%, \\sym{***} Significance at the 1\\%.\" \\\n",
    "\"Heteroskedasticity-robust standard errors \" \\\n",
    "\"clustered at the city-industry level appear in parentheses.\"\\\n",
    " \n",
    "#multi_lines_dep = '(city/product/trade regime/year)'\n",
    "new_r = ['& Above', 'Below','Above', 'Below', 'Above', 'Below' ]\n",
    "lb.beautify(table_number = table_nb,\n",
    "            #reorder_var = reorder,\n",
    "            #multi_lines_dep = multi_lines_dep,\n",
    "            new_row= new_r,\n",
    "            #multicolumn = multicolumn,\n",
    "            table_nte = tbe1,\n",
    "            jupyter_preview = True,\n",
    "            resolution = 200,\n",
    "            folder = folder)"
   ]
  },
  {
   "cell_type": "markdown",
   "metadata": {
    "kernel": "SoS"
   },
   "source": [
    "## Table 3: heterogeneous effect: Domestic vs Foreign"
   ]
  },
  {
   "cell_type": "markdown",
   "metadata": {
    "kernel": "SoS"
   },
   "source": [
    "### SO2"
   ]
  },
  {
   "cell_type": "code",
   "execution_count": null,
   "metadata": {
    "kernel": "SoS"
   },
   "outputs": [],
   "source": [
    "folder = 'Tables_1'\n",
    "table_nb = 3\n",
    "table = 'table_{}'.format(table_nb)\n",
    "path = os.path.join(folder, table + '.txt')\n",
    "if os.path.exists(folder) == False:\n",
    "        os.mkdir(folder)\n",
    "for ext in ['.txt', '.pdf']:\n",
    "    x = [a for a in os.listdir(folder) if a.endswith(ext)]\n",
    "    [os.remove(os.path.join(folder, i)) for i in x]"
   ]
  },
  {
   "cell_type": "code",
   "execution_count": null,
   "metadata": {
    "kernel": "R"
   },
   "outputs": [],
   "source": [
    "%get path table\n",
    "df_for <- df_final %>% inner_join(read_csv('list_city_for_employ_0.3.csv'))\n",
    "df_dom <- df_final %>% left_join(read_csv('list_city_for_employ_0.3.csv')) %>% filter(is.na(share_for))\n",
    "### CITY DOMINATED\n",
    "t_0 <- felm(log(tso2) ~  \n",
    "            log(output) + log(employment) + log(capital) + \n",
    "            log(lag_credit_supply) * credit_constraint\n",
    "           |  fe_c_i + fe_t_i + fe_c_t|0 | geocode4_corr + ind2, df_for%>% filter(tso2 > 500),\n",
    "            exactDOF = TRUE)\n",
    "\n",
    "t_1 <- felm(log(tso2) ~  \n",
    "            log(output) + log(employment) + log(capital) + \n",
    "            log(lag_credit_supply) * credit_constraint\n",
    "           |  fe_c_i + fe_t_i + fe_c_t|0 | geocode4_corr + ind2, df_dom%>% filter(tso2 > 500),\n",
    "            exactDOF = TRUE)\n",
    "\n",
    "t_2 <- felm(log(tso2) ~  \n",
    "            log(output) + log(employment) + log(capital) + \n",
    "            log(lag_credit_supply_long_term) * credit_constraint\n",
    "           |  fe_c_i + fe_t_i + fe_c_t|0 | geocode4_corr + ind2, df_for%>% filter(tso2 > 500),\n",
    "            exactDOF = TRUE)\n",
    "\n",
    "t_3 <- felm(log(tso2) ~  \n",
    "            log(output) + log(employment) + log(capital) + \n",
    "            log(lag_credit_supply_long_term) * credit_constraint\n",
    "           |  fe_c_i + fe_t_i + fe_c_t|0 | geocode4_corr + ind2, df_dom%>% filter(tso2 > 500),\n",
    "            exactDOF = TRUE)\n",
    "\n",
    "t_4 <- felm(log(tso2) ~  \n",
    "            log(output) + log(employment) + log(capital) + \n",
    "            log(fin_dev) * credit_constraint\n",
    "           |  fe_c_i + fe_t_i + fe_c_t|0 | geocode4_corr+ ind2, df_for%>% filter(tso2 > 500),\n",
    "            exactDOF = TRUE)\n",
    "\n",
    "t_5 <- felm(log(tso2) ~  \n",
    "            log(output) + log(employment) + log(capital) + \n",
    "            log(fin_dev) * credit_constraint\n",
    "           |  fe_c_i + fe_t_i + fe_c_t|0 | geocode4_corr+ ind2, df_dom%>% filter(tso2 > 500),\n",
    "            exactDOF = TRUE)\n",
    "dep <- \"Dependent variable: SO2 emission\"\n",
    "fe1 <- list(\n",
    "    c(\"City-industry\", \"Yes\", \"Yes\", \"Yes\", \"Yes\", \"Yes\", \"Yes\"),\n",
    "    c(\"Time-industry\", \"Yes\", \"Yes\", \"Yes\", \"Yes\", \"Yes\", \"Yes\"),\n",
    "    c(\"City-Time\", \"Yes\", \"Yes\", \"Yes\", \"Yes\", \"Yes\", \"Yes\")\n",
    "             )\n",
    "\n",
    "table_1 <- go_latex(list(\n",
    "    t_0,t_1, t_2, t_3, t_4, t_5\n",
    "),\n",
    "    title=\"SO2 emission reduction, credit supply and financial development, City dominated Domestic/Foreign\",\n",
    "    dep_var = dep,\n",
    "    addFE=fe1,\n",
    "    save=TRUE,\n",
    "    note = FALSE,\n",
    "    name=path\n",
    ") "
   ]
  },
  {
   "cell_type": "code",
   "execution_count": null,
   "metadata": {
    "kernel": "SoS"
   },
   "outputs": [],
   "source": [
    "tbe1  = \"All loan is the share of total loan normalised by the GDP. \" \\\n",
    "\"Long-term loan is the share of long term loan normalised by the GDP. \" \\\n",
    "\"Financial development is defined as the share of non-4-SOCBs' share in credit. \" \\\n",
    "\"Cities split are based on the presence of foreign's firms. 'Above' means the total output produced by \"\\\n",
    "\"foreign's firms exceed the output of domestic firms. \" \\\n",
    "\"\\sym{*} Significance at the 10\\%, \\sym{**} Significance at the 5\\%, \\sym{***} Significance at the 1\\%.\" \\\n",
    "\"Heteroskedasticity-robust standard errors \" \\\n",
    "\"clustered at the city-industry level appear in parentheses.\"\\\n",
    "\n",
    "#multi_lines_dep = '(city/product/trade regime/year)'\n",
    "new_r = ['& Above', 'Below','Above', 'Below', 'Above', 'Below' ]\n",
    "lb.beautify(table_number = table_nb,\n",
    "            #reorder_var = reorder,\n",
    "            #multi_lines_dep = multi_lines_dep,\n",
    "            new_row= new_r,\n",
    "            #multicolumn = multicolumn,\n",
    "            table_nte = tbe1,\n",
    "            jupyter_preview = True,\n",
    "            resolution = 200,\n",
    "            folder = folder)"
   ]
  },
  {
   "cell_type": "markdown",
   "metadata": {
    "kernel": "SoS"
   },
   "source": [
    "## Table 5: TCZ & SPZ policy"
   ]
  },
  {
   "cell_type": "code",
   "execution_count": null,
   "metadata": {
    "kernel": "SoS"
   },
   "outputs": [],
   "source": [
    "folder = 'Tables_0'\n",
    "table_nb = 4\n",
    "table = 'table_{}'.format(table_nb)\n",
    "path = os.path.join(folder, table + '.txt')\n",
    "if os.path.exists(folder) == False:\n",
    "        os.mkdir(folder)\n",
    "#for ext in ['.txt', '.tex', '.pdf']:\n",
    "#    x = [a for a in os.listdir(folder) if a.endswith(ext)]\n",
    "#    [os.remove(os.path.join(folder, i)) for i in x]"
   ]
  },
  {
   "cell_type": "code",
   "execution_count": null,
   "metadata": {
    "kernel": "R"
   },
   "outputs": [],
   "source": [
    "%get path table\n",
    "t_0 <- felm(log(tso2) ~  \n",
    "            log(output) + log(employment) + log(capital) + \n",
    "            log(lag_credit_supply) * credit_constraint\n",
    "           |  fe_c_i + fe_t_i + fe_c_t|0 | geocode4_corr + ind2, df_final%>% filter(tso2 > 500 & tcz == 0),\n",
    "            exactDOF = TRUE)\n",
    "\n",
    "t_1 <- felm(log(tso2) ~  \n",
    "            log(output) + log(employment) + log(capital) + \n",
    "            log(lag_credit_supply) * credit_constraint \n",
    "           |  fe_c_i + fe_t_i + fe_c_t|0 | geocode4_corr + ind2, df_final%>% filter(tso2 > 500 & tcz == 1),\n",
    "            exactDOF = TRUE)\n",
    "\n",
    "t_2 <- felm(log(tso2) ~  \n",
    "            log(output) + log(employment) + log(capital) + \n",
    "            log(lag_credit_supply_long_term) * credit_constraint\n",
    "           |  fe_c_i + fe_t_i + fe_c_t|0 | geocode4_corr + ind2, df_final%>% filter(tso2 > 500 & tcz == 0),\n",
    "            exactDOF = TRUE)\n",
    "\n",
    "t_3 <- felm(log(tso2) ~  \n",
    "            log(output) + log(employment) + log(capital) + \n",
    "            log(lag_credit_supply_long_term) * credit_constraint \n",
    "           |  fe_c_i + fe_t_i + fe_c_t|0 | geocode4_corr + ind2, df_final%>% filter(tso2 > 500 & tcz == 1),\n",
    "            exactDOF = TRUE)\n",
    "\n",
    "t_4 <- felm(log(tso2) ~  \n",
    "            log(output) + log(employment) + log(capital) + \n",
    "            log(fin_dev) * credit_constraint \n",
    "           |  fe_c_i + fe_t_i + fe_c_t|0 | geocode4_corr+ ind2, df_final%>% filter(tso2 > 500 & tcz == 0),\n",
    "            exactDOF = TRUE)\n",
    "\n",
    "t_5 <- felm(log(tso2) ~  \n",
    "            log(output) + log(employment) + log(capital) + \n",
    "            log(fin_dev) * credit_constraint \n",
    "           |  fe_c_i + fe_t_i + fe_c_t|0 | geocode4_corr+ ind2, df_final%>% filter(tso2 > 500 & tcz == 1),\n",
    "            exactDOF = TRUE)\n",
    "dep <- \"Dependent variable: SO2 emission\"\n",
    "fe1 <- list(\n",
    "    c(\"City-industry\", \"Yes\", \"Yes\", \"Yes\", \"Yes\", \"Yes\", \"Yes\", \"Yes\", \"Yes\", \"Yes\"),\n",
    "    c(\"Time-industry\", \"Yes\", \"Yes\", \"Yes\", \"Yes\", \"Yes\", \"Yes\", \"Yes\", \"Yes\", \"Yes\"),\n",
    "    c(\"City-Time\", \"Yes\", \"Yes\", \"Yes\", \"Yes\", \"Yes\", \"Yes\", \"Yes\", \"Yes\", \"Yes\")\n",
    "             )\n",
    "\n",
    "table_1 <- go_latex(list(\n",
    "    t_0,t_1, t_2, t_3, t_4, t_5\n",
    "),\n",
    "    title=\"SO2 emission reduction, credit supply and financial development\",\n",
    "    dep_var = dep,\n",
    "    addFE=fe1,\n",
    "    save=TRUE,\n",
    "    note = FALSE,\n",
    "    name=path\n",
    ") "
   ]
  },
  {
   "cell_type": "code",
   "execution_count": null,
   "metadata": {
    "kernel": "SoS"
   },
   "outputs": [],
   "source": [
    "tbe1  = \"All loan is the share of total loan normalised by the GDP. \" \\\n",
    "\"Long-term loan is the share of long term loan normalised by the GDP. \" \\\n",
    "\"Financial development is defined as the share of non-4-SOCBs' share in credit. \" \\\n",
    "\"The list of TCZ cities is provided by the State Council, 1998 \" \\\n",
    "\"\\sym{*} Significance at the 10\\%, \\sym{**} Significance at the 5\\%, \\sym{***} Significance at the 1\\%.\" \\\n",
    "\"Heteroskedasticity-robust standard errors\" \\\n",
    "\"clustered at the city-industry level appear in parentheses.\"\n",
    "\n",
    "#multi_lines_dep = '(city/product/trade regime/year)'\n",
    "new_r = ['& No TCZ', 'TCZ','No TCZ', 'TCZ', 'No TCZ', 'TCZ' ]\n",
    "lb.beautify(table_number = table_nb,\n",
    "            #reorder_var = reorder,\n",
    "            #multi_lines_dep = multi_lines_dep,\n",
    "            new_row= new_r,\n",
    "            #multicolumn = multicolumn,\n",
    "            table_nte = tbe1,\n",
    "            jupyter_preview = True,\n",
    "            resolution = 200,\n",
    "            folder = folder)"
   ]
  },
  {
   "cell_type": "markdown",
   "metadata": {
    "kernel": "SoS"
   },
   "source": [
    "## Table 6: Environmental policy and financial development\n",
    "\n",
    "$$\n",
    "\\begin{aligned}\n",
    "\\text{$S O 2_{p k t}=\\alpha$ Financial Dependencies $_{k} \\times \\text{credit supply}_{pt} \\times \\text{policy mandate}_p +\\mu_{p t}+\\gamma_{k t}+\\delta_{p k}+\\epsilon_{p k t}$}\n",
    "\\end{aligned}\n",
    "$$\n",
    "\n",
    "Environmental policy and financial development:  Aggregate at the province-industry-year level\n",
    "1. Evaluate the effect of credit constraint in provinces with stringent environmental policy\n",
    "  1. SO2\n",
    "    1. credit_constraint * target_reduction_so2_p * period\n",
    "    2. lag_credit_supply*credit_constraint * target_reduction_so2_p * period\n",
    "  2. ~COD~\n",
    "      1. ~credit_constraint * target_reduction_co2_p * period~\n",
    "      2. ~lag_credit_supply*credit_constraint * target_reduction_co2_p * period~\n",
    "\n",
    "Message \n",
    "* Capital within financially constrained industries have been relocated toward investment less harming for the environment (i.e. lower emission) in province with stringent environmental policy\n",
    "* One channel is the increase of the credit access → more loan availability in constraint industry"
   ]
  },
  {
   "cell_type": "code",
   "execution_count": null,
   "metadata": {
    "kernel": "SoS"
   },
   "outputs": [],
   "source": [
    "folder = 'Tables_0'\n",
    "table_nb = 5\n",
    "table = 'table_{}'.format(table_nb)\n",
    "path = os.path.join(folder, table + '.txt')\n",
    "if os.path.exists(folder) == False:\n",
    "        os.mkdir(folder)\n",
    "#for ext in ['.txt', '.tex', '.pdf']:\n",
    "#    x = [a for a in os.listdir(folder) if a.endswith(ext)]\n",
    "#    [os.remove(os.path.join(folder, i)) for i in x]"
   ]
  },
  {
   "cell_type": "markdown",
   "metadata": {
    "kernel": "SoS"
   },
   "source": [
    "### Province level"
   ]
  },
  {
   "cell_type": "code",
   "execution_count": null,
   "metadata": {
    "kernel": "R"
   },
   "outputs": [],
   "source": [
    "%get path table\n",
    "t_0 <- felm(log(tso2) ~  \n",
    "            credit_constraint * target_reduction_so2_p * period\n",
    "           |  fe_p_i + fe_t_i + fe_p_t|0 | province_en +ind2, df_agg%>% \n",
    "             filter( target_reduction_so2_p > 0),\n",
    "            exactDOF = TRUE)\n",
    "\n",
    "t_1 <- felm(log(tso2) ~  \n",
    "            log(lag_credit_supply)*credit_constraint * target_reduction_so2_p * period\n",
    "           |  fe_p_i + fe_t_i + fe_p_t|0 | province_en +ind2, df_agg%>% \n",
    "             filter( target_reduction_so2_p > 0),\n",
    "            exactDOF = TRUE)\n",
    "\n",
    "t_2 <- felm(log(tso2) ~  \n",
    "            log(lag_credit_supply_long_term)*credit_constraint * target_reduction_so2_p * period\n",
    "           |  fe_p_i + fe_t_i + fe_p_t|0 | province_en +ind2, df_agg%>% \n",
    "             filter( target_reduction_so2_p > 0),\n",
    "            exactDOF = TRUE)\n",
    "\n",
    "t_3 <- felm(log(tso2) ~  \n",
    "            credit_constraint * target_reduction_so2_p * period\n",
    "           |  fe_p_i + fe_t_i + fe_p_t|0 | province_en +ind2, df_agg%>% \n",
    "             filter( target_reduction_so2_p > 0 & !(ind2 %in% to_remove)),\n",
    "            exactDOF = TRUE)\n",
    "\n",
    "t_4 <- felm(log(tso2) ~  \n",
    "            log(lag_credit_supply)*credit_constraint * target_reduction_so2_p * period\n",
    "           |  fe_p_i + fe_t_i + fe_p_t|0 | province_en +ind2, df_agg%>% \n",
    "             filter( target_reduction_so2_p > 0 & !(ind2 %in% to_remove)),\n",
    "            exactDOF = TRUE)\n",
    "\n",
    "t_5 <- felm(log(tso2) ~  \n",
    "            log(lag_credit_supply_long_term)*credit_constraint * target_reduction_so2_p * period\n",
    "           |  fe_p_i + fe_t_i + fe_p_t|0 | province_en +ind2, df_agg%>% \n",
    "             filter( target_reduction_so2_p > 0 & !(ind2 %in% to_remove)),\n",
    "            exactDOF = TRUE)\n",
    "\n",
    "dep <- \"Dependent variable: SO2 emission\"\n",
    "fe1 <- list(\n",
    "    c(\"Province-industry\", \"Yes\", \"Yes\", \"Yes\", \"Yes\", \"Yes\", \"Yes\"),\n",
    "    c(\"Time-industry\", \"Yes\", \"Yes\", \"Yes\", \"Yes\", \"Yes\", \"Yes\", \"Yes\"),\n",
    "    c(\"Province-Time\", \"Yes\", \"Yes\", \"Yes\", \"Yes\", \"Yes\", \"Yes\")\n",
    "             )\n",
    "\n",
    "table_1 <- go_latex(list(\n",
    "    t_0,t_1, t_2#, t_3, t_4, t_5\n",
    "),\n",
    "    title=\"SO2 emission reduction, credit constraint and policy mandate\",\n",
    "    dep_var = dep,\n",
    "    addFE=fe1,\n",
    "    save=TRUE,\n",
    "    note = FALSE,\n",
    "    name=path\n",
    ")"
   ]
  },
  {
   "cell_type": "code",
   "execution_count": null,
   "metadata": {
    "kernel": "SoS"
   },
   "outputs": [],
   "source": [
    "tbe1  = \"This table estimates eq(2). \" \\\n",
    "\" SO2 city mandate measures the total amount of SO2 a city needs to reduce by the end of the 11th FYP. \" \\\n",
    "\"All loan is the share of total loan normalised by the GDP. \" \\\n",
    "\"Long-term loan is the share of long term loan normalised by the GDP. \" \\\n",
    "\"Financial development is defined as the share of non-4-SOCBs' share in credit. \" \\\n",
    "\"Heteroskedasticity-robust standard errors\" \\\n",
    "\"clustered at the product level appear inparentheses.\"\\\n",
    "\"\\sym{*} Significance at the 10\\%, \\sym{**} Significance at the 5\\%, \\sym{***} Significance at the 1\\%.\"\n",
    "\n",
    "#multicolumn ={\n",
    "#    'Eligible': 2,\n",
    "#    'Non-Eligible': 1,\n",
    "#    'All': 1,\n",
    "#    'All benchmark': 1,\n",
    "#}\n",
    "\n",
    "#multi_lines_dep = '(city/product/trade regime/year)'\n",
    "#new_r = ['& test1', 'test2']\n",
    "\n",
    "reorder = {\n",
    "    6:0,\n",
    "    3:5\n",
    "    #0:2,\n",
    "    #1:3\n",
    "    #9:2,\n",
    "    #0:3,\n",
    "    #6:5\n",
    "    #14:5\n",
    "}\n",
    "\n",
    "lb.beautify(table_number = table_nb,\n",
    "            reorder_var = reorder,\n",
    "            #multi_lines_dep = multi_lines_dep,\n",
    "            #new_row= new_r,\n",
    "            #multicolumn = multicolumn,\n",
    "            table_nte = tbe1,\n",
    "            jupyter_preview = True,\n",
    "            resolution = 200,\n",
    "            folder = folder)"
   ]
  },
  {
   "cell_type": "markdown",
   "metadata": {
    "kernel": "SoS"
   },
   "source": [
    "## Table 7: parallel trend"
   ]
  },
  {
   "cell_type": "code",
   "execution_count": null,
   "metadata": {
    "kernel": "SoS"
   },
   "outputs": [],
   "source": [
    "folder = 'Tables_0'\n",
    "table_nb = 6\n",
    "table = 'table_{}'.format(table_nb)\n",
    "path = os.path.join(folder, table + '.txt')\n",
    "if os.path.exists(folder) == False:\n",
    "        os.mkdir(folder)\n",
    "#for ext in ['.txt', '.tex', '.pdf']:\n",
    "#    x = [a for a in os.listdir(folder) if a.endswith(ext)]\n",
    "#    [os.remove(os.path.join(folder, i)) for i in x]"
   ]
  },
  {
   "cell_type": "code",
   "execution_count": null,
   "metadata": {
    "kernel": "R"
   },
   "outputs": [],
   "source": [
    "%get path table\n",
    "t_0 <- felm(log(tso2) ~  \n",
    "           credit_constraint * target_reduction_so2_p * year\n",
    "           |  fe_p_i + fe_t_i + fe_p_t|0 | province_en +ind2, df_agg%>% \n",
    "             filter( target_reduction_so2_p > 0),\n",
    "            exactDOF = TRUE)\n",
    "\n",
    "\n",
    "dep <- \"Dependent variable: SO2 emission\"\n",
    "fe1 <- list(\n",
    "    c(\"Province-industry\", \"Yes\"),\n",
    "    c(\"Province-industry\", \"Yes\"),\n",
    "    c(\"Province-Time\", \"Yes\")\n",
    "             )\n",
    "\n",
    "table_1 <- go_latex(list(\n",
    "    t_0\n",
    "),\n",
    "    title=\"parallel trend\",\n",
    "    dep_var = dep,\n",
    "    addFE=fe1,\n",
    "    save=TRUE,\n",
    "    note = FALSE,\n",
    "    name=path\n",
    ")"
   ]
  },
  {
   "cell_type": "code",
   "execution_count": null,
   "metadata": {
    "kernel": "SoS"
   },
   "outputs": [],
   "source": [
    "tbe1  = \"The year 2005 is the omitted category. \"\\\n",
    "\" SO2 city mandate measures the total amount of SO2 a city needs to reduce by the end of the 11th FYP. \" \\\n",
    "\"All loan is the share of total loan normalised by the GDP. \" \\\n",
    "\"Long-term loan is the share of long term loan normalised by the GDP. \" \\\n",
    "\"Financial development is defined as the share of non-4-SOCBs' share in credit. \" \\\n",
    "\"Heteroskedasticity-robust standard errors\" \\\n",
    "\"clustered at the product level appear inparentheses.\"\\\n",
    "\"\\sym{*} Significance at the 10\\%, \\sym{**} Significance at the 5\\%, \\sym{***} Significance at the 1\\%.\"\n",
    "\n",
    "lb.beautify(table_number = table_nb,\n",
    "            #reorder_var = reorder,\n",
    "            #multi_lines_dep = multi_lines_dep,\n",
    "            #new_row= new_r,\n",
    "            #multicolumn = multicolumn,\n",
    "            table_nte = tbe1,\n",
    "            jupyter_preview = True,\n",
    "            resolution = 150,\n",
    "            folder = folder,\n",
    "            parallel = True)"
   ]
  },
  {
   "cell_type": "markdown",
   "metadata": {
    "kernel": "SoS",
    "nteract": {
     "transient": {
      "deleting": false
     }
    }
   },
   "source": [
    "# Generate reports"
   ]
  },
  {
   "cell_type": "code",
   "execution_count": null,
   "metadata": {
    "kernel": "python3",
    "nteract": {
     "transient": {
      "deleting": false
     }
    },
    "outputExpanded": false
   },
   "outputs": [],
   "source": [
    "import os, time, shutil, urllib, ipykernel, json\n",
    "from pathlib import Path\n",
    "from notebook import notebookapp\n",
    "import sys\n",
    "path = os.getcwd()\n",
    "parent_path = str(Path(path).parent.parent.parent)\n",
    "sys.path.append(os.path.join(parent_path, 'utils'))\n",
    "import make_toc\n",
    "import create_report"
   ]
  },
  {
   "cell_type": "code",
   "execution_count": null,
   "metadata": {
    "kernel": "python3"
   },
   "outputs": [],
   "source": [
    "name_json = 'parameters_ETL_pollution_credit_constraint.json'\n",
    "path_json = os.path.join(str(Path(path).parent.parent), 'utils',name_json)\n",
    "notebookname = \"00_credit_supply.ipynb\""
   ]
  },
  {
   "cell_type": "code",
   "execution_count": null,
   "metadata": {
    "kernel": "python3"
   },
   "outputs": [],
   "source": [
    "create_report.create_report(extension = \"html\", keep_code = False, notebookname =  notebookname)"
   ]
  },
  {
   "cell_type": "code",
   "execution_count": null,
   "metadata": {
    "kernel": "python3"
   },
   "outputs": [],
   "source": [
    "### Update TOC in Github\n",
    "for p in [parent_path,\n",
    "          str(Path(path).parent),\n",
    "          #os.path.join(str(Path(path).parent), \"00_download_data_from\"),\n",
    "          #os.path.join(str(Path(path).parent.parent), \"02_data_analysis\"),\n",
    "          #os.path.join(str(Path(path).parent.parent), \"02_data_analysis\", \"00_statistical_exploration\"),\n",
    "          #os.path.join(str(Path(path).parent.parent), \"02_data_analysis\", \"01_model_estimation\"),\n",
    "         ]:\n",
    "    try:\n",
    "        os.remove(os.path.join(p, 'README.md'))\n",
    "    except:\n",
    "        pass\n",
    "    path_parameter = os.path.join(parent_path,'utils', name_json)\n",
    "    md_lines =  make_toc.create_index(cwd = p, path_parameter = path_parameter)\n",
    "    md_out_fn = os.path.join(p,'README.md')\n",
    "    \n",
    "    if p == parent_path:\n",
    "    \n",
    "        make_toc.replace_index(md_out_fn, md_lines, Header = os.path.basename(p).replace('_', ' '), add_description = True, path_parameter = path_parameter)\n",
    "    else:\n",
    "        make_toc.replace_index(md_out_fn, md_lines, Header = os.path.basename(p).replace('_', ' '), add_description = False)"
   ]
  }
 ],
 "metadata": {
  "jupytext": {
   "formats": "ipynb,md"
  },
  "kernel_info": {
   "name": "python3"
  },
  "kernelspec": {
   "display_name": "SoS",
   "language": "sos",
   "name": "sos"
  },
  "language_info": {
   "codemirror_mode": "sos",
   "file_extension": ".sos",
   "mimetype": "text/x-sos",
   "name": "sos",
   "nbconvert_exporter": "sos_notebook.converter.SoS_Exporter",
   "pygments_lexer": "sos"
  },
  "nteract": {
   "version": "0.26.0"
  },
  "sos": {
   "kernels": [
    [
     "R",
     "ir",
     "R",
     "#DCDCDA",
     "r"
    ],
    [
     "SoS",
     "sos",
     "",
     "",
     "sos"
    ],
    [
     "python3",
     "python3",
     "python",
     "",
     {
      "name": "ipython",
      "version": 3
     }
    ]
   ],
   "version": "0.20.1"
  },
  "toc": {
   "base_numbering": 1,
   "nav_menu": {},
   "number_sections": true,
   "sideBar": true,
   "skip_h1_title": false,
   "title_cell": "Table of Contents",
   "title_sidebar": "Contents",
   "toc_cell": false,
   "toc_position": {},
   "toc_section_display": true,
   "toc_window_display": false
  }
 },
 "nbformat": 4,
 "nbformat_minor": 4
}
