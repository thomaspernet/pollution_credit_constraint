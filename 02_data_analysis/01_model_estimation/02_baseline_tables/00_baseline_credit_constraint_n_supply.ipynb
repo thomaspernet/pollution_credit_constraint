{
 "cells": [
  {
   "cell_type": "markdown",
   "metadata": {
    "kernel": "SoS"
   },
   "source": [
    "# US Name\n",
    "Estimate tso2 as a function of  credit_constraint and others variables\n",
    "\n",
    "\n",
    "# Description\n",
    "\n",
    "- New baseline table\n",
    "\n",
    "## Variables\n",
    "### Target\n",
    "\n",
    "tso2\n",
    "\n",
    "### Features\n",
    "\n",
    "- credit_constraint\n",
    "- period\n",
    "- tso2_mandate_c\n",
    "- supply_all_credit\n",
    "\n",
    "## Complementary information\n",
    "\n",
    "\n",
    "\n",
    "# Metadata\n",
    "\n",
    "- Key: 174_Pollution_and_Credit_Constraint\n",
    "- Epic: Models\n",
    "- US: Baseline tables\n",
    "- Task tag: #data-analysis\n",
    "- Analytics reports: \n",
    "\n",
    "# Input Cloud Storage\n",
    "\n",
    "## Table/file\n",
    "\n",
    "**Name**\n",
    "\n",
    "- fin_dep_pollution_baseline_industry\n",
    "\n",
    "**Github**\n",
    "\n",
    "- https://github.com/thomaspernet/pollution_credit_constraint/blob/master/01_data_preprocessing/02_transform_tables/00_credit_constraint_industry.md\n",
    "\n"
   ]
  },
  {
   "cell_type": "markdown",
   "metadata": {
    "kernel": "SoS"
   },
   "source": [
    "# Connexion server"
   ]
  },
  {
   "cell_type": "code",
   "execution_count": null,
   "metadata": {
    "kernel": "SoS"
   },
   "outputs": [],
   "source": [
    "from awsPy.aws_authorization import aws_connector\n",
    "from awsPy.aws_s3 import service_s3\n",
    "from awsPy.aws_glue import service_glue\n",
    "from pathlib import Path\n",
    "import pandas as pd\n",
    "import numpy as np\n",
    "#import seaborn as sns\n",
    "import os, shutil, json\n",
    "import sys\n",
    "\n",
    "path = os.getcwd()\n",
    "parent_path = str(Path(path).parent.parent.parent)\n",
    "\n",
    "\n",
    "name_credential = 'financial_dep_SO2_accessKeys.csv'\n",
    "region = 'eu-west-3'\n",
    "bucket = 'datalake-datascience'\n",
    "path_cred = \"{0}/creds/{1}\".format(parent_path, name_credential)"
   ]
  },
  {
   "cell_type": "code",
   "execution_count": null,
   "metadata": {
    "kernel": "SoS"
   },
   "outputs": [],
   "source": [
    "con = aws_connector.aws_instantiate(credential = path_cred,\n",
    "                                       region = region)\n",
    "client= con.client_boto()\n",
    "s3 = service_s3.connect_S3(client = client,\n",
    "                      bucket = bucket, verbose = False)\n",
    "glue = service_glue.connect_glue(client = client) "
   ]
  },
  {
   "cell_type": "code",
   "execution_count": null,
   "metadata": {
    "kernel": "SoS"
   },
   "outputs": [],
   "source": [
    "pandas_setting = True\n",
    "if pandas_setting:\n",
    "    #cm = sns.light_palette(\"green\", as_cmap=True)\n",
    "    pd.set_option('display.max_columns', None)\n",
    "    pd.set_option('display.max_colwidth', None)"
   ]
  },
  {
   "cell_type": "code",
   "execution_count": null,
   "metadata": {
    "kernel": "SoS",
    "nteract": {
     "transient": {
      "deleting": false
     }
    }
   },
   "outputs": [],
   "source": [
    "os.environ['KMP_DUPLICATE_LIB_OK']='True'\n"
   ]
  },
  {
   "cell_type": "code",
   "execution_count": null,
   "metadata": {
    "kernel": "R"
   },
   "outputs": [],
   "source": [
    "change_target <- function(table){\n",
    "    ## Regime\n",
    "    check_target <- grep(\"periodTRUE:tso2_mandate_c:credit_constraint\", rownames(table$coef))\n",
    "    check_period <- grep(\"periodTRUE:supply_long_term_credit\", rownames(table$coef))\n",
    "    check_supply <- grep(\"periodTRUE:tso2_mandate_c:supply_long_term_credit\", rownames(table$coef))\n",
    "    check_trend <- grep(\"year2002:tso2_mandate_c:supply_long_term_credit\", rownames(table$coef))\n",
    "    check_internal <- grep(\"periodTRUE:tso2_mandate_c:log\\\\(cashflow_tot_asset\\\\)\", rownames(table$coef))\n",
    "    check_internal_1 <- grep(\"log\\\\(cashflow_tot_asset\\\\):periodTRUE:tso2_mandate_c\", rownames(table$coef))\n",
    "    \n",
    "    if (length(check_target) !=0) {\n",
    "    rownames(table$coefficients)[check_target] <- 'credit_constraint:periodTRUE:tso2_mandate_c'\n",
    "    rownames(table$beta)[check_target] <- 'credit_constraint:periodTRUE:tso2_mandate_c'        \n",
    "    } else if (length(check_period) !=0){\n",
    "    rownames(table$coefficients)[check_period] <- 'supply_long_term_credit:periodTRUE'\n",
    "    rownames(table$beta)[check_period] <- 'supply_long_term_credit:periodTRUE'  \n",
    "    rownames(table$coefficients)[check_supply] <- 'supply_long_term_credit:periodTRUE:tso2_mandate_c'\n",
    "    rownames(table$beta)[check_supply] <- 'supply_long_term_credit:periodTRUE:tso2_mandate_c'\n",
    "    }else if (length(check_trend) !=0){\n",
    "    rownames(table$coefficients)[check_trend] <- 'supply_long_term_credit:year2002:tso2_mandate_c'\n",
    "    rownames(table$beta)[check_trend] <- 'supply_long_term_credit:year2002:tso2_mandate_c' \n",
    "        \n",
    "    check_trend <- grep(\"year2003:tso2_mandate_c:supply_long_term_credit\", rownames(table$coef))\n",
    "    rownames(table$coefficients)[check_trend] <- 'supply_long_term_credit:year2003:tso2_mandate_c'\n",
    "    rownames(table$beta)[check_trend] <- 'supply_long_term_credit:year2003:tso2_mandate_c' \n",
    "    \n",
    "    check_trend <- grep(\"year2004:tso2_mandate_c:supply_long_term_credit\", rownames(table$coef))\n",
    "    rownames(table$coefficients)[check_trend] <- 'supply_long_term_credit:year2004:tso2_mandate_c'\n",
    "    rownames(table$beta)[check_trend] <- 'supply_long_term_credit:year2004:tso2_mandate_c' \n",
    "        \n",
    "    check_trend <- grep(\"year2005:tso2_mandate_c:supply_long_term_credit\", rownames(table$coef))\n",
    "    rownames(table$coefficients)[check_trend] <- 'supply_long_term_credit:year2005:tso2_mandate_c'\n",
    "    rownames(table$beta)[check_trend] <- 'supply_long_term_credit:year2005:tso2_mandate_c' \n",
    "        \n",
    "    check_trend <- grep(\"year2006:tso2_mandate_c:supply_long_term_credit\", rownames(table$coef))\n",
    "    rownames(table$coefficients)[check_trend] <- 'supply_long_term_credit:year2006:tso2_mandate_c'\n",
    "    rownames(table$beta)[check_trend] <- 'supply_long_term_credit:year2006:tso2_mandate_c' \n",
    "        \n",
    "    check_trend <- grep(\"year2007:tso2_mandate_c:supply_long_term_credit\", rownames(table$coef))\n",
    "    rownames(table$coefficients)[check_trend] <- 'supply_long_term_credit:year2007:tso2_mandate_c'\n",
    "    rownames(table$beta)[check_trend] <- 'supply_long_term_credit:year2007:tso2_mandate_c' \n",
    "        }else if (length(check_internal) !=0){\n",
    "    rownames(table$coefficients)[check_internal] <- 'cashflow_tot_asset:periodTRUE:tso2_mandate_c'\n",
    "    rownames(table$beta)[check_internal] <- 'cashflow_tot_asset:periodTRUE:tso2_mandate_c' \n",
    "        }else if (length(check_internal_1) !=0){\n",
    "    rownames(table$coefficients)[check_internal_1] <- 'cashflow_tot_asset:periodTRUE:tso2_mandate_c'\n",
    "    rownames(table$beta)[check_internal_1] <- 'cashflow_tot_asset:periodTRUE:tso2_mandate_c' \n",
    "        }\n",
    "    \n",
    "    return (table)\n",
    "}"
   ]
  },
  {
   "cell_type": "markdown",
   "metadata": {
    "kernel": "SoS"
   },
   "source": [
    "# Load tables\n",
    "\n",
    "Since we load the data as a Pandas DataFrame, we want to pass the `dtypes`. We load the schema from Glue to guess the types"
   ]
  },
  {
   "cell_type": "code",
   "execution_count": null,
   "metadata": {
    "kernel": "SoS"
   },
   "outputs": [],
   "source": [
    "db = 'environment'\n",
    "table = 'fin_dep_pollution_baseline_industry'"
   ]
  },
  {
   "cell_type": "code",
   "execution_count": null,
   "metadata": {
    "kernel": "SoS"
   },
   "outputs": [],
   "source": [
    "dtypes = {}\n",
    "schema = (glue.get_table_information(database = db,\n",
    "                           table = table)\n",
    "          ['Table']['StorageDescriptor']['Columns']\n",
    "         )\n",
    "for key, value in enumerate(schema):\n",
    "    if value['Type'] in ['varchar(12)',\n",
    "                         'varchar(3)',\n",
    "                        'varchar(14)', 'varchar(11)']:\n",
    "        format_ = 'string'\n",
    "    elif value['Type'] in ['decimal(21,5)', 'double', 'bigint', 'int', 'float']:\n",
    "        format_ = 'float'\n",
    "    else:\n",
    "        format_ = value['Type'] \n",
    "    dtypes.update(\n",
    "        {value['Name']:format_}\n",
    "    )"
   ]
  },
  {
   "cell_type": "code",
   "execution_count": null,
   "metadata": {
    "kernel": "SoS"
   },
   "outputs": [],
   "source": [
    "download_data = False\n",
    "filename = 'df_{}'.format(table)\n",
    "full_path_filename = 'SQL_OUTPUT_ATHENA/CSV/{}.csv'.format(filename)\n",
    "path_local = os.path.join(str(Path(path).parent.parent.parent), \n",
    "                              \"00_data_catalog/temporary_local_data\")\n",
    "df_path = os.path.join(path_local, filename + '.csv')\n",
    "if download_data:\n",
    "    \n",
    "    s3 = service_s3.connect_S3(client = client,\n",
    "                          bucket = bucket, verbose = False)\n",
    "    query = \"\"\"\n",
    "    SELECT * \n",
    "    FROM {}.{}\n",
    "    WHERE tso2 > 1151 and so2_intensity > 0\n",
    "    \"\"\".format(db, table)\n",
    "    try:\n",
    "        df = (s3.run_query(\n",
    "            query=query,\n",
    "            database=db,\n",
    "            s3_output='SQL_OUTPUT_ATHENA',\n",
    "            filename=filename,  # Add filename to print dataframe\n",
    "            destination_key='SQL_OUTPUT_ATHENA/CSV',  #Use it temporarily\n",
    "            dtype = dtypes\n",
    "        )\n",
    "                )\n",
    "    except:\n",
    "        pass\n",
    "    s3.download_file(\n",
    "        key = full_path_filename\n",
    "    )\n",
    "    shutil.move(\n",
    "        filename + '.csv',\n",
    "        os.path.join(path_local, filename + '.csv')\n",
    "    )\n",
    "    s3.remove_file(full_path_filename)\n",
    "    df.head()"
   ]
  },
  {
   "cell_type": "code",
   "execution_count": null,
   "metadata": {
    "kernel": "SoS",
    "nteract": {
     "transient": {
      "deleting": false
     }
    }
   },
   "outputs": [],
   "source": [
    "pd.DataFrame(schema)"
   ]
  },
  {
   "cell_type": "markdown",
   "metadata": {
    "kernel": "SoS",
    "nteract": {
     "transient": {
      "deleting": false
     }
    }
   },
   "source": [
    "## Schema Latex table\n",
    "\n",
    "To rename a variable, please use the following template:\n",
    "\n",
    "```\n",
    "{\n",
    "    'old':'XX',\n",
    "    'new':'XX_1'\n",
    "    }\n",
    "```\n",
    "\n",
    "if you need to pass a latex format with `\\`, you need to duplicate it for instance, `\\text` becomes `\\\\text:\n",
    "\n",
    "```\n",
    "{\n",
    "    'old':'working\\_capital\\_i',\n",
    "    'new':'\\\\text{working capital}_i'\n",
    "    }\n",
    "```\n",
    "\n",
    "Then add it to the key `to_rename`"
   ]
  },
  {
   "cell_type": "code",
   "execution_count": null,
   "metadata": {
    "kernel": "SoS",
    "nteract": {
     "transient": {
      "deleting": false
     }
    }
   },
   "outputs": [],
   "source": [
    "add_to_dic = True\n",
    "if add_to_dic:\n",
    "    if os.path.exists(\"schema_table.json\"):\n",
    "        os.remove(\"schema_table.json\")\n",
    "    data = {'to_rename':[], 'to_remove':[]}\n",
    "    dic_rename =  [\n",
    "        {\n",
    "        'old':'periodTRUE',\n",
    "        'new':'\\\\text{period}'\n",
    "        },\n",
    "        {\n",
    "        'old':'period',\n",
    "        'new':'\\\\text{period}'\n",
    "        },\n",
    "        \n",
    "        ### depd\n",
    "        ###mandate\n",
    "        {\n",
    "        'old':'tso2\\_mandate\\_c',\n",
    "        'new':'\\\\text{S02 mandate}_c'\n",
    "        },\n",
    "        ### financial ratio\n",
    "        {\n",
    "        'old':'total\\_asset',\n",
    "        'new':'\\\\text{total asset}'\n",
    "        },\n",
    "        {\n",
    "        'old':'tangible',\n",
    "        'new':'\\\\text{tangible asset}'\n",
    "        },\n",
    "        {\n",
    "        'old':'investment\\_tot\\_asset',\n",
    "        'new':'\\\\text{investment to asset}'\n",
    "        },\n",
    "        {\n",
    "        'old':'rd\\_tot\\_asset',\n",
    "        'new':'\\\\text{rd to asset}'\n",
    "        },\n",
    "        {\n",
    "        'old':'asset\\_tangibility\\_tot\\_asset',\n",
    "        'new':'\\\\text{asset tangibility}'\n",
    "        },\n",
    "        {\n",
    "        'old':'d\\_avg\\_ij\\_o\\_city\\_mandate',\n",
    "        'new':'\\\\text{relative reduction mandate}_c'\n",
    "        },\n",
    "        ### ind\n",
    "        {\n",
    "        'old':'current\\_ratio',\n",
    "        'new':'\\\\text{current ratio}'\n",
    "        },\n",
    "        {\n",
    "        'old':'lag\\_current\\_ratio',\n",
    "        'new':'\\\\text{current ratio}'\n",
    "        },\n",
    "        {\n",
    "        'old':'quick\\_ratio',\n",
    "        'new':'\\\\text{quick ratio}'\n",
    "        },\n",
    "        {\n",
    "        'old':'lag\\_liabilities\\_tot\\_asset',\n",
    "        'new':'\\\\text{liabilities to asset}'\n",
    "        },\n",
    "        {\n",
    "        'old':'liabilities\\_tot\\_asset',\n",
    "        'new':'\\\\text{liabilities to asset}'\n",
    "        },\n",
    "        {\n",
    "        'old':'sales\\_tot\\_asset',\n",
    "        'new':'\\\\text{sales to asset}'\n",
    "        },\n",
    "        {\n",
    "        'old':'lag\\_sales\\_tot\\_asset',\n",
    "        'new':'\\\\text{sales to asset}'\n",
    "        },\n",
    "        {\n",
    "        'old':'cash\\_tot\\_asset',\n",
    "        'new':'\\\\text{cash to asset}'\n",
    "        },\n",
    "        {\n",
    "        'old':'cashflow\\_tot\\_asset',\n",
    "        'new':'\\\\text{cashflow to asset}'\n",
    "        },\n",
    "        {\n",
    "        'old':'cashflow\\_to\\_tangible',\n",
    "        'new':'\\\\text{cashflow}'\n",
    "        },\n",
    "        {\n",
    "        'old':'lag\\_cashflow\\_to\\_tangible',\n",
    "        'new':'\\\\text{cashflow}'\n",
    "        },\n",
    "        {\n",
    "        'old':'d\\_credit\\_constraintBELOW',\n",
    "        'new':'\\\\text{Fin dep}_{i}'\n",
    "        },\n",
    "        ## control\n",
    "        {\n",
    "        'old':'age + 1',\n",
    "        'new':'\\\\text{age}'\n",
    "        },\n",
    "        {\n",
    "        'old':'export\\_to\\_sale',\n",
    "        'new':'\\\\text{export to sale}'\n",
    "        },\n",
    "        {\n",
    "        'old':'labor\\_capital',\n",
    "        'new':'\\\\text{labor to capital}'\n",
    "        },\n",
    "        ### Supply demand external finance\n",
    "        {\n",
    "        'old':'supply\\_all\\_credit',\n",
    "        'new':'\\\\text{all credit}'\n",
    "        },\n",
    "        {\n",
    "        'old':'supply\\_long\\_term\\_credit',\n",
    "        'new':'\\\\text{credit supply}_p'\n",
    "        },\n",
    "        {\n",
    "        'old':'credit\\_constraint',\n",
    "        'new':'\\\\text{credit constraint}'\n",
    "        },\n",
    "        {\n",
    "        'old':'soe\\_vs\\_priPRIVATE',\n",
    "        'new':'\\\\text{private}'\n",
    "        },\n",
    "        ## TFP\n",
    "        {\n",
    "        'old':'tfp\\_cit',\n",
    "        'new':'\\\\text{TFP}'\n",
    "        },\n",
    "        ### year\n",
    "        {\n",
    "        'old':'year2002',\n",
    "        'new':'\\\\text{2002}'\n",
    "        },\n",
    "        {\n",
    "        'old':'year2003',\n",
    "        'new':'\\\\text{2003}'\n",
    "        },\n",
    "        {\n",
    "        'old':'year2004',\n",
    "        'new':'\\\\text{2004}'\n",
    "        },\n",
    "        {\n",
    "        'old':'year2005',\n",
    "        'new':'\\\\text{2005}'\n",
    "        },\n",
    "        {\n",
    "        'old':'year2006',\n",
    "        'new':'\\\\text{2006}'\n",
    "        },\n",
    "        {\n",
    "        'old':'year2007',\n",
    "        'new':'\\\\text{2007}'\n",
    "        },\n",
    "        \n",
    "        \n",
    "    ]\n",
    "    \n",
    "\n",
    "    data['to_rename'].extend(dic_rename)\n",
    "    with open('schema_table.json', 'w') as outfile:\n",
    "        json.dump(data, outfile)"
   ]
  },
  {
   "cell_type": "code",
   "execution_count": null,
   "metadata": {
    "kernel": "SoS"
   },
   "outputs": [],
   "source": [
    "sys.path.append(os.path.join(parent_path, 'utils'))\n",
    "import latex.latex_beautify as lb\n",
    "#%load_ext autoreload\n",
    "#%autoreload 2"
   ]
  },
  {
   "cell_type": "code",
   "execution_count": null,
   "metadata": {
    "kernel": "R"
   },
   "outputs": [],
   "source": [
    "options(warn=-1)\n",
    "library(tidyverse)\n",
    "library(lfe)\n",
    "#library(lazyeval)\n",
    "library('progress')\n",
    "path = \"../../../utils/latex/table_golatex.R\"\n",
    "source(path)"
   ]
  },
  {
   "cell_type": "code",
   "execution_count": null,
   "metadata": {
    "kernel": "R"
   },
   "outputs": [],
   "source": [
    "%get df_path\n",
    "df_final <- read_csv(df_path) %>%\n",
    "mutate_if(is.character, as.factor) %>%\n",
    "    mutate_at(vars(starts_with(\"fe\")), as.factor) %>%\n",
    "mutate(\n",
    "    year = relevel(as.factor(year), ref='2001'),\n",
    "    period = relevel(as.factor(period), ref='FALSE'),\n",
    "    polluted_d50i = relevel(as.factor(polluted_d50i), ref='BELOW'),\n",
    "    polluted_d75i = relevel(as.factor(polluted_d75i), ref='BELOW'),\n",
    "    polluted_d80i = relevel(as.factor(polluted_d80i), ref='BELOW'),\n",
    "    polluted_d85i = relevel(as.factor(polluted_d85i), ref='BELOW'),\n",
    "    polluted_d90i = relevel(as.factor(polluted_d90i), ref='BELOW'),\n",
    "    polluted_d95i = relevel(as.factor(polluted_d95i), ref='BELOW'),\n",
    "    polluted_mi = relevel(as.factor(polluted_mi), ref='BELOW'),\n",
    "    d_avg_ij_o_city_mandate = relevel(as.factor(d_avg_ij_o_city_mandate), ref=\"FALSE\"),\n",
    ")"
   ]
  },
  {
   "cell_type": "markdown",
   "metadata": {
    "kernel": "SoS"
   },
   "source": [
    "## Table 1:Baseline regression\n",
    "\n",
    "$$\n",
    "\\begin{aligned}\n",
    "SO2_{ckt} = \\alpha \\text{credit constraint}_{k} \\times Post_{t} \\times \\text{Reduction Mandate}_{c} + \\mu_{ct} + \\gamma_{kt} + \\delta_{ck} + \\epsilon_{ckt}\n",
    "\\end{aligned}\n",
    "$$\n",
    "\n",
    "and \n",
    "\n",
    "$$\n",
    "\\begin{aligned}\n",
    "SO2_{ckt} = \\alpha \\text{credit supply}_{p} \\times Post_{t} \\times \\text{Reduction Mandate}_{c} + \\gamma_{kt} + \\delta_{ck} + \\epsilon_{ckt}\n",
    "\\end{aligned}\n",
    "$$\n",
    "\n",
    "**External**\n",
    "\n",
    "- Supply (city or province level)\n",
    "    - all credit supply_all_credit\n",
    "- demand (industry level)\n",
    "    - industrial financial dependency: credit_constraint\n",
    "\n",
    "\n",
    "* Column 1: credit constraint\n",
    "    * FE: \n",
    "        - fe 1: `City-industry`\n",
    "        - fe 2: `Time-industry`\n",
    "        - fe 3: `City-Time`\n",
    "* Column 2: credit constraint filter industry\n",
    "    * FE: \n",
    "        - fe 1: `City-industry`\n",
    "        - fe 2: `Time-industry`\n",
    "        - fe 3: `City-Time`\n",
    "* Column 3: credit constraint & credit supply\n",
    "    * FE: \n",
    "        - fe 1: `City-industry`\n",
    "        - fe 2: `Time-industry`\n",
    "        - fe 3: `City-Time`\n",
    "* Column 4: XXX\n",
    "    * FE: \n",
    "        - fe 1: `City-industry`\n",
    "        - fe 2: `Time-industry`\n",
    "* Column 4: XXX\n",
    "    * FE: \n",
    "        - fe 1: `City-industry`\n",
    "        - fe 2: `Time-industry`"
   ]
  },
  {
   "cell_type": "code",
   "execution_count": null,
   "metadata": {
    "kernel": "SoS",
    "nteract": {
     "transient": {
      "deleting": false
     }
    }
   },
   "outputs": [],
   "source": [
    "folder = 'Tables_0'\n",
    "table_nb = 1\n",
    "table = 'table_{}'.format(table_nb)\n",
    "path = os.path.join(folder, table + '.txt')\n",
    "if os.path.exists(folder) == False:\n",
    "        os.mkdir(folder)\n",
    "for ext in ['.txt', '.tex', '.pdf']:\n",
    "    x = [a for a in os.listdir(folder) if a.endswith(ext)]\n",
    "    [os.remove(os.path.join(folder, i)) for i in x]"
   ]
  },
  {
   "cell_type": "code",
   "execution_count": null,
   "metadata": {
    "kernel": "R"
   },
   "outputs": [],
   "source": [
    "%get path table\n",
    "to_remove <- c(21, 42, 23, 39, 33, 26, 32, 31)\n",
    "t_0 <- felm(log(tso2) ~ credit_constraint * period * tso2_mandate_c\n",
    "            | fe_c_i + fe_t_i + fe_c_t |0 | geocode4_corr + ind2, df_final,\n",
    "            exactDOF = TRUE)\n",
    "\n",
    "t_1 <- felm(log(tso2) ~ \n",
    "            credit_constraint * period * tso2_mandate_c\n",
    "            | fe_c_i + fe_t_i + fe_c_t |0 | geocode4_corr+ ind2, df_final %>%filter(!(ind2 %in% to_remove)),\n",
    "            exactDOF = TRUE)\n",
    "\n",
    "t_2 <- felm(log(tso2) ~ \n",
    "            supply_long_term_credit * period * tso2_mandate_c\n",
    "            | fe_c_i + fe_t_i |0 | geocode4_corr+ ind2, df_final,\n",
    "            exactDOF = TRUE)\n",
    "#t_2 <- change_target(t_2)\n",
    "t_3 <- felm(log(tso2) ~ \n",
    "            credit_constraint * period * tso2_mandate_c +\n",
    "            supply_long_term_credit * period * tso2_mandate_c\n",
    "            | fe_c_i + fe_t_i |0 | geocode4_corr+ ind2, df_final,\n",
    "            exactDOF = TRUE)\n",
    "t_3 <- change_target(t_3)\n",
    "t_3 <- change_target(t_3)\n",
    "\n",
    "t_4 <- felm(log(tso2) ~ \n",
    "            credit_constraint * period * tso2_mandate_c +\n",
    "            supply_long_term_credit * period * tso2_mandate_c\n",
    "            | fe_c_i + fe_t_i |0 | geocode4_corr+ ind2, df_final %>%filter(!(ind2 %in% to_remove)),\n",
    "            exactDOF = TRUE)\n",
    "t_4 <- change_target(t_4)\n",
    "t_4 <- change_target(t_4)\n",
    "\n",
    "dep <- \"Dependent variable: SO2 emission\"\n",
    "fe1 <- list(\n",
    "    c(\"City-industry\", \"Yes\", \"Yes\", \"Yes\", \"Yes\", \"Yes\"),\n",
    "    c(\"Time-industry\", \"Yes\", \"Yes\", \"Yes\", \"Yes\", \"Yes\"),\n",
    "    c(\"City-Time\", \"Yes\", \"Yes\", \"No\", \"No\", \"No\")\n",
    "             )\n",
    "\n",
    "table_1 <- go_latex(list(\n",
    "    t_0,t_1, t_2, t_3, t_4\n",
    "),\n",
    "    title=\"SO2 emission reduction, credit constraint and policy mandate\",\n",
    "    dep_var = dep,\n",
    "    addFE=fe1,\n",
    "    save=TRUE,\n",
    "    note = FALSE,\n",
    "    name=path\n",
    ")"
   ]
  },
  {
   "cell_type": "code",
   "execution_count": null,
   "metadata": {
    "kernel": "SoS"
   },
   "outputs": [],
   "source": [
    "tbe1  = \"This table estimates eq(3). \" \\\n",
    "\"Heteroskedasticity-robust standard errors\" \\\n",
    "\"clustered at the product level appear inparentheses.\"\\\n",
    "\"\\sym{*} Significance at the 10\\%, \\sym{**} Significance at the 5\\%, \\sym{***} Significance at the 1\\%.\"\n",
    "\n",
    "#multicolumn ={\n",
    "#    'Eligible': 2,\n",
    "#    'Non-Eligible': 1,\n",
    "#    'All': 1,\n",
    "#    'All benchmark': 1,\n",
    "#}\n",
    "\n",
    "#multi_lines_dep = '(city/product/trade regime/year)'\n",
    "#new_r = ['& test1', 'test2']\n",
    "lb.beautify(table_number = table_nb,\n",
    "            #reorder_var = reorder,\n",
    "            #multi_lines_dep = multi_lines_dep,\n",
    "            #new_row= new_r,\n",
    "            #multicolumn = multicolumn,\n",
    "            table_nte = tbe1,\n",
    "            jupyter_preview = True,\n",
    "            resolution = 150,\n",
    "            folder = folder)"
   ]
  },
  {
   "cell_type": "markdown",
   "metadata": {
    "kernel": "SoS"
   },
   "source": [
    "## Table 2:Parallel trend"
   ]
  },
  {
   "cell_type": "code",
   "execution_count": null,
   "metadata": {
    "kernel": "SoS"
   },
   "outputs": [],
   "source": [
    "folder = 'Tables_0'\n",
    "table_nb = 2\n",
    "table = 'table_{}'.format(table_nb)\n",
    "path = os.path.join(folder, table + '.txt')\n",
    "if os.path.exists(folder) == False:\n",
    "        os.mkdir(folder)\n",
    "for ext in ['.txt', '.tex', '.pdf']:\n",
    "    x = [a for a in os.listdir(folder) if a.endswith(ext)]\n",
    "    [os.remove(os.path.join(folder, i)) for i in x]"
   ]
  },
  {
   "cell_type": "code",
   "execution_count": null,
   "metadata": {
    "kernel": "R"
   },
   "outputs": [],
   "source": [
    "%get path table\n",
    "omit = paste0(\n",
    "    \"^year2002:supply_long_term_credit$|^year2003:supply_long_term_credit$|\",\n",
    "    \"^year2004:supply_long_term_credit$|^year2005:supply_long_term_credit$|\",\n",
    "    \"^year2006:supply_long_term_credit$|^year2007:supply_long_term_credit$|\",\n",
    "    \"^year2002:tso2_mandate_c$|^year2003:tso2_mandate_c$|^year2004:tso2_mandate_c$|\",\n",
    "    \"^year2005:tso2_mandate_c$|^year2006:tso2_mandate_c$|^year2007:tso2_mandate_c$|\",\n",
    "    \"^supply_long_term_credit:year2002$|^supply_long_term_credit:year2003$|\",\n",
    "    \"^supply_long_term_credit:year2004$|^supply_long_term_credit:year2005$|\",\n",
    "    \"^supply_long_term_credit:year2006$|^supply_long_term_credit:year2007$\"\n",
    ")\n",
    "t_0 <- felm(log(tso2) ~ credit_constraint * year * tso2_mandate_c\n",
    "            | fe_c_i + fe_t_i + fe_c_t |0 | geocode4_corr+ ind2, df_final ,\n",
    "            exactDOF = TRUE)\n",
    "\n",
    "t_1 <- felm(log(tso2) ~ supply_long_term_credit * year * tso2_mandate_c\n",
    "            | fe_c_i + fe_t_i |0 | geocode4_corr+ ind2, df_final,\n",
    "            exactDOF = TRUE)\n",
    "\n",
    "t_2 <- felm(log(tso2) ~ credit_constraint * year * tso2_mandate_c +\n",
    "            supply_long_term_credit * year * tso2_mandate_c\n",
    "            | fe_c_i + fe_t_i |0 | geocode4_corr+ ind2, df_final,\n",
    "            exactDOF = TRUE)\n",
    "t_2 <- change_target(t_2)\n",
    "dep <- \"Dependent variable: SO2 emission\"\n",
    "fe1 <- list(\n",
    "    c(\"City-industry\", \"Yes\", \"Yes\", \"Yes\"),\n",
    "    c(\"Time-industry\", \"Yes\", \"Yes\", \"Yes\"),\n",
    "    c(\"City-Time\", \"Yes\", \"No\", \"No\")\n",
    "             )\n",
    "\n",
    "table_1 <- go_latex(list(\n",
    "    t_0,t_1, t_2\n",
    "),\n",
    "    title=\"parallel trend\",\n",
    "    dep_var = dep,\n",
    "    addFE=fe1,\n",
    "    save=TRUE,\n",
    "    note = FALSE,\n",
    "    name=path,\n",
    "    omit = omit\n",
    ")"
   ]
  },
  {
   "cell_type": "code",
   "execution_count": null,
   "metadata": {
    "kernel": "SoS"
   },
   "outputs": [],
   "source": [
    "tbe1  = \"This table estimates eq(3). \" \\\n",
    "\"Heteroskedasticity-robust standard errors\" \\\n",
    "\"clustered at the product level appear inparentheses.\"\\\n",
    "\"\\sym{*} Significance at the 10\\%, \\sym{**} Significance at the 5\\%, \\sym{***} Significance at the 1\\%.\"\n",
    "\n",
    "#multicolumn ={\n",
    "#    'Eligible': 2,\n",
    "#    'Non-Eligible': 1,\n",
    "#    'All': 1,\n",
    "#    'All benchmark': 1,\n",
    "#}\n",
    "\n",
    "#multi_lines_dep = '(city/product/trade regime/year)'\n",
    "#new_r = ['& test1', 'test2']\n",
    "lb.beautify(table_number = table_nb,\n",
    "            #reorder_var = reorder,\n",
    "            #multi_lines_dep = multi_lines_dep,\n",
    "            #new_row= new_r,\n",
    "            #multicolumn = multicolumn,\n",
    "            table_nte = tbe1,\n",
    "            jupyter_preview = True,\n",
    "            resolution = 150,\n",
    "            folder = folder,\n",
    "            parallel = True)"
   ]
  },
  {
   "cell_type": "markdown",
   "metadata": {
    "kernel": "SoS"
   },
   "source": [
    "## Table 3: heterogeneous effect\n",
    "\n",
    "City ownership are available for the following variables:\n",
    "\n",
    "- output\n",
    "- capital\n",
    "- employment\n",
    "- sales\n",
    "\n",
    "**How is it constructed**\n",
    "\n",
    "- city ownership public vs private\n",
    "    - Aggregate output by ownership and city\n",
    "    - A given city will have SOE asset tangibility and PRIVATE asset tangibility [output, employment, capital and sales]\n",
    "    - If asset tangibility SOE above Private then city is dominated by SOE\n",
    "\n",
    "Notebook reference: https://github.com/thomaspernet/Financial_dependency_pollution/blob/master/01_data_preprocessing/02_transform_tables/07_dominated_city_ownership.md\n",
    "\n",
    "Industrial are available for the following variables:\n",
    "\n",
    "- output\n",
    "- capital\n",
    "- employment\n",
    "- sales\n",
    "\n",
    "**Industrial size effect**\n",
    "- Change computation large vs small industry\n",
    "    - Compute the median (percentile) within a city taking all firms\n",
    "    - Compute the median (percentile) within a city-industry taking all firms within the industry\n",
    "    - For instance, Shanghai has 3 sectors, compute the median for Shanghai, and 3 median for each sector\n",
    "    \n",
    "Notebook reference: https://github.com/thomaspernet/Financial_dependency_pollution/blob/master/01_data_preprocessing/02_transform_tables/08_dominated_industry_ownership.md"
   ]
  },
  {
   "cell_type": "markdown",
   "metadata": {
    "kernel": "SoS"
   },
   "source": [
    "### Credit constraint"
   ]
  },
  {
   "cell_type": "code",
   "execution_count": null,
   "metadata": {
    "kernel": "SoS"
   },
   "outputs": [],
   "source": [
    "folder = 'Tables_0'\n",
    "table_nb = 3\n",
    "table = 'table_{}'.format(table_nb)\n",
    "path = os.path.join(folder, table + '.txt')\n",
    "if os.path.exists(folder) == False:\n",
    "        os.mkdir(folder)\n",
    "for ext in ['.txt', '.tex', '.pdf']:\n",
    "    x = [a for a in os.listdir(folder) if a.endswith(ext)]\n",
    "    [os.remove(os.path.join(folder, i)) for i in x]"
   ]
  },
  {
   "cell_type": "code",
   "execution_count": null,
   "metadata": {
    "kernel": "R"
   },
   "outputs": [],
   "source": [
    "%get path table\n",
    "### SOE vs Private\n",
    "t_0 <- felm(log(tso2) ~ credit_constraint * period * tso2_mandate_c\n",
    "            | fe_c_i + fe_t_i + fe_c_t |0 | geocode4_corr+ ind2, df_final %>% filter(dominated_output_soe_c == TRUE),\n",
    "            exactDOF = TRUE)\n",
    "\n",
    "t_1 <- felm(log(tso2) ~ \n",
    "            credit_constraint * period * tso2_mandate_c\n",
    "            | fe_c_i + fe_t_i + fe_c_t |0 | geocode4_corr+ ind2, df_final %>% filter(dominated_output_soe_c == FALSE),\n",
    "            exactDOF = TRUE)\n",
    "\n",
    "### Domestic vs foreign\n",
    "t_2 <- felm(log(tso2) ~ credit_constraint * period * tso2_mandate_c\n",
    "            | fe_c_i + fe_t_i + fe_c_t |0 | geocode4_corr+ ind2, df_final %>% filter(dominated_output_for_c == TRUE),\n",
    "            exactDOF = TRUE)\n",
    "\n",
    "t_3 <- felm(log(tso2) ~ \n",
    "            credit_constraint * period * tso2_mandate_c\n",
    "            | fe_c_i + fe_t_i + fe_c_t |0 | geocode4_corr+ ind2, df_final %>% filter(dominated_output_for_c == FALSE),\n",
    "            exactDOF = TRUE)\n",
    "\n",
    "### Large vs Small \n",
    "#### .5\n",
    "var <- .75\n",
    "df_temp_true = df_final %>% \n",
    "    mutate(filter_ = str_extract(dominated_output_i, paste0(\"(?<=\", var, \"\\\\=)(.*?)(?=\\\\,)\")))%>%\n",
    "    filter(filter_ == 'false') ### fix do not change\n",
    "df_temp_false = df_final %>% \n",
    "    mutate(filter_ = str_extract(dominated_output_i, paste0(\"(?<=\", var, \"\\\\=)(.*?)(?=\\\\,)\"))) %>%\n",
    "    filter(filter_ == 'true') ### fix do not change\n",
    "\n",
    "t_4 <- felm(log(tso2) ~ credit_constraint * period * tso2_mandate_c\n",
    "            | fe_c_i + fe_t_i + fe_c_t |0 |geocode4_corr + ind2, df_temp_true,\n",
    "            exactDOF = TRUE)\n",
    "\n",
    "t_5 <- felm(log(tso2) ~ \n",
    "            credit_constraint * period * tso2_mandate_c\n",
    "            | fe_c_i + fe_t_i + fe_c_t |0 |geocode4_corr + ind2, df_temp_false,\n",
    "            exactDOF = TRUE)\n",
    "\n",
    "dep <- \"Dependent variable: SO2 emission\"\n",
    "fe1 <- list(\n",
    "    c(\"City-industry\", \"Yes\", \"Yes\", \"Yes\", \"Yes\", \"Yes\", \"Yes\"),\n",
    "    c(\"Time-industry\", \"Yes\", \"Yes\", \"Yes\", \"Yes\", \"Yes\", \"Yes\"),\n",
    "    c(\"City-Time\", \"Yes\", \"Yes\", \"Yes\", \"Yes\", \"Yes\", \"Yes\")\n",
    "             )\n",
    "\n",
    "table_1 <- go_latex(list(\n",
    "    t_0,t_1, t_2,t_3, t_4, t_5\n",
    "),\n",
    "    title=\"heterogeneity effect\",\n",
    "    dep_var = dep,\n",
    "    addFE=fe1,\n",
    "    save=TRUE,\n",
    "    note = FALSE,\n",
    "    name=path\n",
    ")"
   ]
  },
  {
   "cell_type": "code",
   "execution_count": null,
   "metadata": {
    "kernel": "SoS"
   },
   "outputs": [],
   "source": [
    "tbe1  = \"This table estimates eq(3). \" \\\n",
    "\"Heteroskedasticity-robust standard errors\" \\\n",
    "\"clustered at the product level appear inparentheses.\"\\\n",
    "\"\\sym{*} Significance at the 10\\%, \\sym{**} Significance at the 5\\%, \\sym{***} Significance at the 1\\%.\"\n",
    "\n",
    "#multicolumn ={\n",
    "#    'Eligible': 2,\n",
    "#    'Non-Eligible': 1,\n",
    "#    'All': 1,\n",
    "#    'All benchmark': 1,\n",
    "#}\n",
    "\n",
    "#multi_lines_dep = '(city/product/trade regime/year)'\n",
    "new_r = ['& SOE', 'Private', 'Foreign', 'Domestic', 'Small', 'Large']\n",
    "lb.beautify(table_number = table_nb,\n",
    "            #reorder_var = reorder,\n",
    "            #multi_lines_dep = multi_lines_dep,\n",
    "            new_row= new_r,\n",
    "            #multicolumn = multicolumn,\n",
    "            table_nte = tbe1,\n",
    "            jupyter_preview = True,\n",
    "            resolution = 200,\n",
    "            folder = folder)"
   ]
  },
  {
   "cell_type": "markdown",
   "metadata": {
    "kernel": "SoS"
   },
   "source": [
    "### Credit supply"
   ]
  },
  {
   "cell_type": "code",
   "execution_count": null,
   "metadata": {
    "kernel": "SoS"
   },
   "outputs": [],
   "source": [
    "folder = 'Tables_0'\n",
    "table_nb = 4\n",
    "table = 'table_{}'.format(table_nb)\n",
    "path = os.path.join(folder, table + '.txt')\n",
    "if os.path.exists(folder) == False:\n",
    "        os.mkdir(folder)\n",
    "for ext in ['.txt', '.tex', '.pdf']:\n",
    "    x = [a for a in os.listdir(folder) if a.endswith(ext)]\n",
    "    [os.remove(os.path.join(folder, i)) for i in x]"
   ]
  },
  {
   "cell_type": "code",
   "execution_count": null,
   "metadata": {
    "kernel": "R"
   },
   "outputs": [],
   "source": [
    "%get path table\n",
    "### SOE vs Private\n",
    "t_0 <- felm(log(tso2) ~ supply_long_term_credit * period * tso2_mandate_c\n",
    "            | fe_c_i + fe_t_i  |0 | geocode4_corr+ ind2, df_final %>% filter(dominated_output_soe_c == TRUE),\n",
    "            exactDOF = TRUE)\n",
    "\n",
    "t_1 <- felm(log(tso2) ~ \n",
    "            supply_long_term_credit * period * tso2_mandate_c\n",
    "            | fe_c_i + fe_t_i |0 | geocode4_corr+ ind2, df_final %>% filter(dominated_output_soe_c == FALSE),\n",
    "            exactDOF = TRUE)\n",
    "\n",
    "### Domestic vs foreign\n",
    "t_2 <- felm(log(tso2) ~ supply_long_term_credit * period * tso2_mandate_c\n",
    "            | fe_c_i + fe_t_i  |0 | geocode4_corr+ ind2, df_final %>% filter(dominated_output_for_c == TRUE),\n",
    "            exactDOF = TRUE)\n",
    "\n",
    "t_3 <- felm(log(tso2) ~ \n",
    "            supply_long_term_credit * period * tso2_mandate_c\n",
    "            | fe_c_i + fe_t_i  |0 | geocode4_corr+ ind2, df_final %>% filter(dominated_output_for_c == FALSE),\n",
    "            exactDOF = TRUE)\n",
    "\n",
    "### Large vs Small \n",
    "#### .5\n",
    "var <- .75\n",
    "df_temp_true = df_final %>% \n",
    "    mutate(filter_ = str_extract(dominated_output_i, paste0(\"(?<=\", var, \"\\\\=)(.*?)(?=\\\\,)\")))%>%\n",
    "    filter(filter_ == 'false') ### fix do not change\n",
    "df_temp_false = df_final %>% \n",
    "    mutate(filter_ = str_extract(dominated_output_i, paste0(\"(?<=\", var, \"\\\\=)(.*?)(?=\\\\,)\"))) %>%\n",
    "    filter(filter_ == 'true') ### fix do not change\n",
    "\n",
    "t_4 <- felm(log(tso2) ~ supply_long_term_credit * period * tso2_mandate_c\n",
    "            | fe_c_i + fe_t_i  |0 |geocode4_corr + ind2, df_temp_true,\n",
    "            exactDOF = TRUE)\n",
    "\n",
    "t_5 <- felm(log(tso2) ~ \n",
    "            supply_long_term_credit * period * tso2_mandate_c\n",
    "            | fe_c_i + fe_t_i  |0 |geocode4_corr + ind2, df_temp_false,\n",
    "            exactDOF = TRUE)\n",
    "\n",
    "dep <- \"Dependent variable: SO2 emission\"\n",
    "fe1 <- list(\n",
    "    c(\"City-industry\", \"Yes\", \"Yes\", \"Yes\", \"Yes\", \"Yes\", \"Yes\"),\n",
    "    c(\"Time-industry\", \"Yes\", \"Yes\", \"Yes\", \"Yes\", \"Yes\", \"Yes\"),\n",
    "    c(\"City-Time\", \"No\", \"No\", \"No\", \"No\", \"No\", \"No\")\n",
    "             )\n",
    "\n",
    "table_1 <- go_latex(list(\n",
    "    t_0,t_1, t_2,t_3, t_4, t_5\n",
    "),\n",
    "    title=\"heterogeneity effect\",\n",
    "    dep_var = dep,\n",
    "    addFE=fe1,\n",
    "    save=TRUE,\n",
    "    note = FALSE,\n",
    "    name=path\n",
    ")"
   ]
  },
  {
   "cell_type": "code",
   "execution_count": null,
   "metadata": {
    "kernel": "SoS"
   },
   "outputs": [],
   "source": [
    "tbe1  = \"This table estimates eq(3). \" \\\n",
    "\"Heteroskedasticity-robust standard errors\" \\\n",
    "\"clustered at the product level appear inparentheses.\"\\\n",
    "\"\\sym{*} Significance at the 10\\%, \\sym{**} Significance at the 5\\%, \\sym{***} Significance at the 1\\%.\"\n",
    "\n",
    "#multicolumn ={\n",
    "#    'Eligible': 2,\n",
    "#    'Non-Eligible': 1,\n",
    "#    'All': 1,\n",
    "#    'All benchmark': 1,\n",
    "#}\n",
    "\n",
    "#multi_lines_dep = '(city/product/trade regime/year)'\n",
    "new_r = ['& SOE', 'Private', 'Foreign', 'Domestic', 'Small', 'Large']\n",
    "lb.beautify(table_number = table_nb,\n",
    "            #reorder_var = reorder,\n",
    "            #multi_lines_dep = multi_lines_dep,\n",
    "            new_row= new_r,\n",
    "            #multicolumn = multicolumn,\n",
    "            table_nte = tbe1,\n",
    "            jupyter_preview = True,\n",
    "            resolution = 200,\n",
    "            folder = folder)"
   ]
  },
  {
   "cell_type": "markdown",
   "metadata": {
    "kernel": "SoS"
   },
   "source": [
    "## Table 4: TCZ & SPZ policy"
   ]
  },
  {
   "cell_type": "markdown",
   "metadata": {
    "kernel": "SoS"
   },
   "source": [
    "### Credit constraint"
   ]
  },
  {
   "cell_type": "code",
   "execution_count": null,
   "metadata": {
    "kernel": "SoS"
   },
   "outputs": [],
   "source": [
    "folder = 'Tables_0'\n",
    "table_nb = 4\n",
    "table = 'table_{}'.format(table_nb)\n",
    "path = os.path.join(folder, table + '.txt')\n",
    "if os.path.exists(folder) == False:\n",
    "        os.mkdir(folder)\n",
    "for ext in ['.txt', '.tex', '.pdf']:\n",
    "    x = [a for a in os.listdir(folder) if a.endswith(ext)]\n",
    "    [os.remove(os.path.join(folder, i)) for i in x]"
   ]
  },
  {
   "cell_type": "code",
   "execution_count": null,
   "metadata": {
    "kernel": "R"
   },
   "outputs": [],
   "source": [
    "%get path table\n",
    "### TCZ\n",
    "t_0 <- felm(log(tso2) ~ credit_constraint * period * tso2_mandate_c\n",
    "            | fe_c_i + fe_t_i + fe_c_t |0 | geocode4_corr+ ind2, df_final %>% filter(tcz == 1),\n",
    "            exactDOF = TRUE)\n",
    "\n",
    "t_1 <- felm(log(tso2) ~ \n",
    "            credit_constraint * period * tso2_mandate_c \n",
    "            | fe_c_i + fe_t_i + fe_c_t |0 | geocode4_corr+ ind2, df_final %>% filter( tcz == 0),\n",
    "            exactDOF = TRUE)\n",
    "\n",
    "### SPZ\n",
    "t_2 <- felm(log(tso2) ~ credit_constraint * period * tso2_mandate_c\n",
    "            | fe_c_i + fe_t_i + fe_c_t |0 | geocode4_corr+ ind2, df_final %>% filter(spz == 1),\n",
    "            exactDOF = TRUE)\n",
    "\n",
    "t_3 <- felm(log(tso2) ~ \n",
    "            credit_constraint * period * tso2_mandate_c \n",
    "            | fe_c_i + fe_t_i + fe_c_t |0 | geocode4_corr+ ind2, df_final %>% filter(spz == 0),\n",
    "            exactDOF = TRUE)\n",
    "dep <- \"Dependent variable: SO2 emission\"\n",
    "fe1 <- list(\n",
    "    c(\"City-industry\", \"Yes\", \"Yes\", \"Yes\", \"Yes\", \"Yes\", \"Yes\"),\n",
    "    c(\"Time-industry\", \"Yes\", \"Yes\", \"Yes\", \"Yes\", \"Yes\", \"Yes\"),\n",
    "    c(\"City-Time\", \"Yes\", \"Yes\", \"Yes\", \"Yes\", \"Yes\", \"Yes\")\n",
    "             )\n",
    "\n",
    "table_1 <- go_latex(list(\n",
    "    t_0,t_1, t_2,t_3\n",
    "),\n",
    "    title=\"heterogeneity effect\",\n",
    "    dep_var = dep,\n",
    "    addFE=fe1,\n",
    "    save=TRUE,\n",
    "    note = FALSE,\n",
    "    name=path\n",
    ")"
   ]
  },
  {
   "cell_type": "code",
   "execution_count": null,
   "metadata": {
    "kernel": "SoS"
   },
   "outputs": [],
   "source": [
    "tbe1  = \"This table estimates eq(3). \" \\\n",
    "\"Heteroskedasticity-robust standard errors\" \\\n",
    "\"clustered at the product level appear inparentheses.\"\\\n",
    "\"\\sym{*} Significance at the 10\\%, \\sym{**} Significance at the 5\\%, \\sym{***} Significance at the 1\\%.\"\n",
    "\n",
    "#multicolumn ={\n",
    "#    'Eligible': 2,\n",
    "#    'Non-Eligible': 1,\n",
    "#    'All': 1,\n",
    "#    'All benchmark': 1,\n",
    "#}\n",
    "\n",
    "#multi_lines_dep = '(city/product/trade regime/year)'\n",
    "new_r = ['& TCZ', 'NO TCZ', 'SPZ', 'No SPZ']\n",
    "lb.beautify(table_number = table_nb,\n",
    "            #reorder_var = reorder,\n",
    "            #multi_lines_dep = multi_lines_dep,\n",
    "            new_row= new_r,\n",
    "            #multicolumn = multicolumn,\n",
    "            table_nte = tbe1,\n",
    "            jupyter_preview = True,\n",
    "            resolution = 200,\n",
    "            folder = folder)"
   ]
  },
  {
   "cell_type": "markdown",
   "metadata": {
    "kernel": "SoS"
   },
   "source": [
    "### Credit supply"
   ]
  },
  {
   "cell_type": "code",
   "execution_count": null,
   "metadata": {
    "kernel": "SoS"
   },
   "outputs": [],
   "source": [
    "folder = 'Tables_0'\n",
    "table_nb = 4\n",
    "table = 'table_{}'.format(table_nb)\n",
    "path = os.path.join(folder, table + '.txt')\n",
    "if os.path.exists(folder) == False:\n",
    "        os.mkdir(folder)\n",
    "for ext in ['.txt', '.tex', '.pdf']:\n",
    "    x = [a for a in os.listdir(folder) if a.endswith(ext)]\n",
    "    [os.remove(os.path.join(folder, i)) for i in x]"
   ]
  },
  {
   "cell_type": "code",
   "execution_count": null,
   "metadata": {
    "kernel": "R"
   },
   "outputs": [],
   "source": [
    "%get path table\n",
    "### TCZ\n",
    "t_0 <- felm(log(tso2) ~ supply_long_term_credit * period * tso2_mandate_c\n",
    "            | fe_c_i + fe_t_i |0 | geocode4_corr+ ind2, df_final %>% filter(tcz == 1),\n",
    "            exactDOF = TRUE)\n",
    "\n",
    "t_1 <- felm(log(tso2) ~ \n",
    "            supply_long_term_credit * period * tso2_mandate_c \n",
    "            | fe_c_i + fe_t_i |0 | geocode4_corr+ ind2, df_final %>% filter( tcz == 0),\n",
    "            exactDOF = TRUE)\n",
    "\n",
    "### SPZ\n",
    "t_2 <- felm(log(tso2) ~ supply_long_term_credit * period * tso2_mandate_c\n",
    "            | fe_c_i + fe_t_i |0 | geocode4_corr+ ind2, df_final %>% filter(spz == 1),\n",
    "            exactDOF = TRUE)\n",
    "\n",
    "t_3 <- felm(log(tso2) ~ \n",
    "            supply_long_term_credit * period * tso2_mandate_c \n",
    "            | fe_c_i + fe_t_i |0 | geocode4_corr+ ind2, df_final %>% filter(spz == 0),\n",
    "            exactDOF = TRUE)\n",
    "dep <- \"Dependent variable: SO2 emission\"\n",
    "fe1 <- list(\n",
    "    c(\"City-industry\", \"Yes\", \"Yes\", \"Yes\", \"Yes\", \"Yes\", \"Yes\"),\n",
    "    c(\"Time-industry\", \"Yes\", \"Yes\", \"Yes\", \"Yes\", \"Yes\", \"Yes\"),\n",
    "    c(\"City-Time\", \"No\", \"No\", \"No\", \"No\", \"No\", \"No\")\n",
    "             )\n",
    "\n",
    "table_1 <- go_latex(list(\n",
    "    t_0,t_1, t_2,t_3\n",
    "),\n",
    "    title=\"heterogeneity effect\",\n",
    "    dep_var = dep,\n",
    "    addFE=fe1,\n",
    "    save=TRUE,\n",
    "    note = FALSE,\n",
    "    name=path\n",
    ")"
   ]
  },
  {
   "cell_type": "code",
   "execution_count": null,
   "metadata": {
    "kernel": "SoS"
   },
   "outputs": [],
   "source": [
    "tbe1  = \"This table estimates eq(3). \" \\\n",
    "\"Heteroskedasticity-robust standard errors\" \\\n",
    "\"clustered at the product level appear inparentheses.\"\\\n",
    "\"\\sym{*} Significance at the 10\\%, \\sym{**} Significance at the 5\\%, \\sym{***} Significance at the 1\\%.\"\n",
    "\n",
    "#multicolumn ={\n",
    "#    'Eligible': 2,\n",
    "#    'Non-Eligible': 1,\n",
    "#    'All': 1,\n",
    "#    'All benchmark': 1,\n",
    "#}\n",
    "\n",
    "#multi_lines_dep = '(city/product/trade regime/year)'\n",
    "new_r = ['& TCZ', 'NO TCZ', 'SPZ', 'No SPZ']\n",
    "lb.beautify(table_number = table_nb,\n",
    "            #reorder_var = reorder,\n",
    "            #multi_lines_dep = multi_lines_dep,\n",
    "            new_row= new_r,\n",
    "            #multicolumn = multicolumn,\n",
    "            table_nte = tbe1,\n",
    "            jupyter_preview = True,\n",
    "            resolution = 200,\n",
    "            folder = folder)"
   ]
  },
  {
   "cell_type": "markdown",
   "metadata": {
    "kernel": "SoS"
   },
   "source": [
    "## Table 5: Internal finance"
   ]
  },
  {
   "cell_type": "code",
   "execution_count": null,
   "metadata": {
    "kernel": "SoS"
   },
   "outputs": [],
   "source": [
    "folder = 'Tables_0'\n",
    "table_nb = 1\n",
    "table = 'table_{}'.format(table_nb)\n",
    "path = os.path.join(folder, table + '.txt')\n",
    "if os.path.exists(folder) == False:\n",
    "        os.mkdir(folder)\n",
    "for ext in ['.txt', '.tex', '.pdf']:\n",
    "    x = [a for a in os.listdir(folder) if a.endswith(ext)]\n",
    "    [os.remove(os.path.join(folder, i)) for i in x]"
   ]
  },
  {
   "cell_type": "code",
   "execution_count": null,
   "metadata": {
    "kernel": "R"
   },
   "outputs": [],
   "source": [
    "%get path table\n",
    "t_0 <- felm(log(tso2) ~ \n",
    "            log(cashflow_tot_asset) * period * tso2_mandate_c\n",
    "            | fe_c_i + fe_t_i +fe_c_t|0 | geocode4_corr+ ind2, df_final,\n",
    "            exactDOF = TRUE)\n",
    "t_0 <- change_target(t_0)\n",
    "t_1 <- felm(log(tso2) ~ \n",
    "            credit_constraint * period * tso2_mandate_c + \n",
    "            log(cashflow_tot_asset) * period * tso2_mandate_c \n",
    "            | fe_c_i + fe_t_i +fe_c_t|0 | geocode4_corr+ ind2, df_final,\n",
    "            exactDOF = TRUE)\n",
    "t_1 <- change_target(t_1)\n",
    "dep <- \"Dependent variable: SO2 emission\"\n",
    "fe1 <- list(\n",
    "    c(\"City-industry\", \"Yes\", \"Yes\", \"Yes\", \"Yes\", \"Yes\", \"Yes\"),\n",
    "    c(\"Time-industry\", \"Yes\", \"Yes\", \"Yes\", \"Yes\", \"Yes\", \"Yes\"),\n",
    "    c(\"City-Time\", \"Yes\", \"Yes\", \"Yes\", \"Yes\", \"Yes\", \"Yes\")\n",
    "             )\n",
    "\n",
    "table_1 <- go_latex(list(\n",
    "    t_0,t_1#, t_2,t_3\n",
    "),\n",
    "    title=\"Internal finance\",\n",
    "    dep_var = dep,\n",
    "    addFE=fe1,\n",
    "    save=TRUE,\n",
    "    note = FALSE,\n",
    "    name=path\n",
    ")"
   ]
  },
  {
   "cell_type": "code",
   "execution_count": null,
   "metadata": {
    "kernel": "SoS"
   },
   "outputs": [],
   "source": [
    "tbe1  = \"This table estimates eq(3). \" \\\n",
    "\"Heteroskedasticity-robust standard errors\" \\\n",
    "\"clustered at the product level appear inparentheses.\"\\\n",
    "\"\\sym{*} Significance at the 10\\%, \\sym{**} Significance at the 5\\%, \\sym{***} Significance at the 1\\%.\"\n",
    "\n",
    "#multicolumn ={\n",
    "#    'Eligible': 2,\n",
    "#    'Non-Eligible': 1,\n",
    "#    'All': 1,\n",
    "#    'All benchmark': 1,\n",
    "#}\n",
    "\n",
    "#multi_lines_dep = '(city/product/trade regime/year)'\n",
    "#new_r = ['& TCZ', 'NO TCZ', 'SPZ', 'No SPZ']\n",
    "lb.beautify(table_number = table_nb,\n",
    "            #reorder_var = reorder,\n",
    "            #multi_lines_dep = multi_lines_dep,\n",
    "            #new_row= new_r,\n",
    "            #multicolumn = multicolumn,\n",
    "            table_nte = tbe1,\n",
    "            jupyter_preview = True,\n",
    "            resolution = 200,\n",
    "            folder = folder)"
   ]
  },
  {
   "cell_type": "markdown",
   "metadata": {
    "kernel": "SoS"
   },
   "source": [
    "## Table 6: Relocation"
   ]
  },
  {
   "cell_type": "code",
   "execution_count": null,
   "metadata": {
    "kernel": "SoS"
   },
   "outputs": [],
   "source": [
    "folder = 'Tables_0'\n",
    "table_nb = 6\n",
    "table = 'table_{}'.format(table_nb)\n",
    "path = os.path.join(folder, table + '.txt')\n",
    "if os.path.exists(folder) == False:\n",
    "        os.mkdir(folder)\n",
    "for ext in ['.txt', '.tex', '.pdf']:\n",
    "    x = [a for a in os.listdir(folder) if a.endswith(ext)]\n",
    "    [os.remove(os.path.join(folder, i)) for i in x]"
   ]
  },
  {
   "cell_type": "code",
   "execution_count": null,
   "metadata": {
    "kernel": "R"
   },
   "outputs": [],
   "source": [
    "%get path table\n",
    "### \n",
    "t_0 <- felm(log(tso2) ~ credit_constraint * period * tso2_mandate_c +\n",
    "            credit_constraint * period * d_avg_ij_o_city_mandate \n",
    "            | fe_c_i + fe_t_i + fe_c_t |0 | geocode4_corr+ ind2, df_final ,\n",
    "            exactDOF = TRUE)\n",
    "\n",
    "### \n",
    "t_1 <- felm(log(so2_intensity) ~\n",
    "            supply_long_term_credit * period * d_avg_ij_o_city_mandate\n",
    "            | fe_c_i + fe_t_i |0 | geocode4_corr+ ind2, df_final,\n",
    "            exactDOF = TRUE)\n",
    "\n",
    "t_2 <- felm(log(so2_intensity) ~ credit_constraint * period * tso2_mandate_c +\n",
    "            supply_long_term_credit * period * d_avg_ij_o_city_mandate\n",
    "            | fe_c_i + fe_t_i |0 | geocode4_corr+ ind2, df_final,\n",
    "            exactDOF = TRUE)\n",
    "\n",
    "dep <- \"Dependent variable: SO2 emission\"\n",
    "fe1 <- list(\n",
    "    c(\"City-industry\", \"Yes\", \"Yes\", \"Yes\"),\n",
    "    c(\"Time-industry\", \"Yes\", \"Yes\", \"Yes\"),\n",
    "    c(\"City-Time\", \"Yes\", \"No\", \"No\")\n",
    "             )\n",
    "\n",
    "table_1 <- go_latex(list(\n",
    "    t_0,t_1, t_2\n",
    "),\n",
    "    title=\"Relocation effect\",\n",
    "    dep_var = dep,\n",
    "    addFE=fe1,\n",
    "    save=TRUE,\n",
    "    note = FALSE,\n",
    "    name=path\n",
    ")"
   ]
  },
  {
   "cell_type": "code",
   "execution_count": null,
   "metadata": {
    "kernel": "SoS"
   },
   "outputs": [],
   "source": [
    "tbe1  = \"This table estimates eq(3). \" \\\n",
    "\"Heteroskedasticity-robust standard errors\" \\\n",
    "\"clustered at the product level appear inparentheses.\"\\\n",
    "\"\\sym{*} Significance at the 10\\%, \\sym{**} Significance at the 5\\%, \\sym{***} Significance at the 1\\%.\"\n",
    "\n",
    "#multicolumn ={\n",
    "#    'Eligible': 2,\n",
    "#    'Non-Eligible': 1,\n",
    "#    'All': 1,\n",
    "#    'All benchmark': 1,\n",
    "#}\n",
    "\n",
    "#multi_lines_dep = '(city/product/trade regime/year)'\n",
    "#new_r = ['& TCZ', 'NO TCZ', 'SPZ', 'No SPZ']\n",
    "lb.beautify(table_number = table_nb,\n",
    "            #reorder_var = reorder,\n",
    "            #multi_lines_dep = multi_lines_dep,\n",
    "            #new_row= new_r,\n",
    "            #multicolumn = multicolumn,\n",
    "            table_nte = tbe1,\n",
    "            jupyter_preview = True,\n",
    "            resolution = 200,\n",
    "            folder = folder)"
   ]
  },
  {
   "cell_type": "markdown",
   "metadata": {
    "kernel": "SoS",
    "nteract": {
     "transient": {
      "deleting": false
     }
    }
   },
   "source": [
    "# Generate reports"
   ]
  },
  {
   "cell_type": "code",
   "execution_count": null,
   "metadata": {
    "kernel": "python3",
    "nteract": {
     "transient": {
      "deleting": false
     }
    },
    "outputExpanded": false
   },
   "outputs": [],
   "source": [
    "import os, time, shutil, urllib, ipykernel, json\n",
    "from pathlib import Path\n",
    "from notebook import notebookapp\n",
    "import sys\n",
    "path = os.getcwd()\n",
    "parent_path = str(Path(path).parent.parent.parent)\n",
    "sys.path.append(os.path.join(parent_path, 'utils'))\n",
    "import make_toc"
   ]
  },
  {
   "cell_type": "code",
   "execution_count": null,
   "metadata": {
    "kernel": "SoS"
   },
   "outputs": [],
   "source": [
    "name_json = 'parameters_ETL_pollution_credit_constraint.json'\n",
    "path_json = os.path.join(str(Path(path).parent.parent), 'utils',name_json)"
   ]
  },
  {
   "cell_type": "code",
   "execution_count": null,
   "metadata": {
    "kernel": "python3",
    "nteract": {
     "transient": {
      "deleting": false
     }
    },
    "outputExpanded": false
   },
   "outputs": [],
   "source": [
    "def create_report(extension = \"html\", keep_code = False, notebookname = None):\n",
    "    \"\"\"\n",
    "    Create a report from the current notebook and save it in the \n",
    "    Report folder (Parent-> child directory)\n",
    "    \n",
    "    1. Exctract the current notbook name\n",
    "    2. Convert the Notebook \n",
    "    3. Move the newly created report\n",
    "    \n",
    "    Args:\n",
    "    extension: string. Can be \"html\", \"pdf\", \"md\"\n",
    "    \n",
    "    \n",
    "    \"\"\"\n",
    "    \n",
    "    ### Get notebook name\n",
    "    connection_file = os.path.basename(ipykernel.get_connection_file())\n",
    "    kernel_id = connection_file.split('-', 1)[0].split('.')[0]\n",
    "\n",
    "    for srv in notebookapp.list_running_servers():\n",
    "        try:\n",
    "            if srv['token']=='' and not srv['password']:  \n",
    "                req = urllib.request.urlopen(srv['url']+'api/sessions')\n",
    "            else:\n",
    "                req = urllib.request.urlopen(srv['url']+ \\\n",
    "                                             'api/sessions?token=' + \\\n",
    "                                             srv['token'])\n",
    "            sessions = json.load(req)\n",
    "            notebookname = sessions[0]['name']\n",
    "        except:\n",
    "            notebookname = notebookname  \n",
    "    \n",
    "    sep = '.'\n",
    "    path = os.getcwd()\n",
    "    #parent_path = str(Path(path).parent)\n",
    "    \n",
    "    ### Path report\n",
    "    #path_report = \"{}/Reports\".format(parent_path)\n",
    "    #path_report = \"{}/Reports\".format(path)\n",
    "    \n",
    "    ### Path destination\n",
    "    name_no_extension = notebookname.split(sep, 1)[0]\n",
    "    source_to_move = name_no_extension +'.{}'.format(extension)\n",
    "    dest = os.path.join(path,'Reports', source_to_move)\n",
    "    \n",
    "    ### Generate notebook\n",
    "    if keep_code:\n",
    "        os.system('jupyter nbconvert --to {} {}'.format(\n",
    "    extension,notebookname))\n",
    "    else:\n",
    "        os.system('jupyter nbconvert --no-input --to {} {}'.format(\n",
    "    extension,notebookname))\n",
    "    \n",
    "    ### Move notebook to report folder\n",
    "    #time.sleep(5)\n",
    "    shutil.move(source_to_move, dest)\n",
    "    print(\"Report Available at this adress:\\n {}\".format(dest))"
   ]
  },
  {
   "cell_type": "code",
   "execution_count": null,
   "metadata": {
    "kernel": "python3",
    "nteract": {
     "transient": {
      "deleting": false
     }
    },
    "outputExpanded": false
   },
   "outputs": [],
   "source": [
    "create_report(extension = \"html\", keep_code = False, notebookname = None)"
   ]
  },
  {
   "cell_type": "code",
   "execution_count": null,
   "metadata": {
    "kernel": "python3"
   },
   "outputs": [],
   "source": [
    "### Update TOC in Github\n",
    "for p in [parent_path,\n",
    "          str(Path(path).parent),\n",
    "          #os.path.join(str(Path(path).parent), \"00_download_data_from\"),\n",
    "          #os.path.join(str(Path(path).parent.parent), \"02_data_analysis\"),\n",
    "          #os.path.join(str(Path(path).parent.parent), \"02_data_analysis\", \"00_statistical_exploration\"),\n",
    "          #os.path.join(str(Path(path).parent.parent), \"02_data_analysis\", \"01_model_estimation\"),\n",
    "         ]:\n",
    "    try:\n",
    "        os.remove(os.path.join(p, 'README.md'))\n",
    "    except:\n",
    "        pass\n",
    "    path_parameter = os.path.join(parent_path,'utils', name_json)\n",
    "    md_lines =  make_toc.create_index(cwd = p, path_parameter = path_parameter)\n",
    "    md_out_fn = os.path.join(p,'README.md')\n",
    "    \n",
    "    if p == parent_path:\n",
    "    \n",
    "        make_toc.replace_index(md_out_fn, md_lines, Header = os.path.basename(p).replace('_', ' '), add_description = True, path_parameter = path_parameter)\n",
    "    else:\n",
    "        make_toc.replace_index(md_out_fn, md_lines, Header = os.path.basename(p).replace('_', ' '), add_description = False)"
   ]
  }
 ],
 "metadata": {
  "jupytext": {
   "formats": "ipynb,md"
  },
  "kernel_info": {
   "name": "python3"
  },
  "kernelspec": {
   "display_name": "SoS",
   "language": "sos",
   "name": "sos"
  },
  "language_info": {
   "codemirror_mode": "sos",
   "file_extension": ".sos",
   "mimetype": "text/x-sos",
   "name": "sos",
   "nbconvert_exporter": "sos_notebook.converter.SoS_Exporter",
   "pygments_lexer": "sos"
  },
  "nteract": {
   "version": "0.26.0"
  },
  "sos": {
   "kernels": [
    [
     "R",
     "ir",
     "R",
     "#DCDCDA",
     "r"
    ],
    [
     "SoS",
     "sos",
     "",
     "",
     "sos"
    ],
    [
     "python3",
     "python3",
     "python",
     "",
     ""
    ]
   ],
   "version": "0.20.1"
  },
  "toc": {
   "base_numbering": 1,
   "nav_menu": {},
   "number_sections": true,
   "sideBar": true,
   "skip_h1_title": false,
   "title_cell": "Table of Contents",
   "title_sidebar": "Contents",
   "toc_cell": false,
   "toc_position": {},
   "toc_section_display": true,
   "toc_window_display": false
  }
 },
 "nbformat": 4,
 "nbformat_minor": 4
}
