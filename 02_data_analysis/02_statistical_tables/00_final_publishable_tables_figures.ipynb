{
 "cells": [
  {
   "cell_type": "markdown",
   "metadata": {
    "kernel": "SoS"
   },
   "source": [
    "# US Name\n",
    "figure 1: so2 emission over time\n",
    "\n",
    "\n",
    "# Description\n",
    "\n",
    "- figure 1: so2 emission over time\n",
    "- figure 2: share non SOBC over time\n",
    "- figure 3: target vs SO2 variation\n",
    "- figure 4: parallel trend\n",
    "- table 1: summary statistics\n",
    "\n",
    "## Variables\n",
    "### Target\n",
    "\n",
    "tso2\n",
    "\n",
    "### Features\n",
    "\n",
    "- share_big_bank_loan\n",
    "\n",
    "## Complementary information\n",
    "\n",
    "\n",
    "\n",
    "# Metadata\n",
    "\n",
    "- Key: 207_Pollution_and_Credit_Constraint\n",
    "- Epic: Models\n",
    "- US: Create statistical tables and figures\n",
    "- Task tag: #data-analysis, #statistical-tables, #figures\n",
    "- Analytics reports: \n",
    "\n",
    "# Input Cloud Storage\n",
    "\n",
    "## Table/file\n",
    "\n",
    "**Name**\n",
    "\n",
    "- fin_dep_pollution_baseline_industry\n",
    "\n",
    "**Github**\n",
    "\n",
    "- https://github.com/thomaspernet/pollution_credit_constraint/blob/master/01_data_preprocessing/02_transform_tables/00_credit_constraint_industry.md\n",
    "\n"
   ]
  },
  {
   "cell_type": "markdown",
   "metadata": {
    "kernel": "SoS"
   },
   "source": [
    "# Connexion server"
   ]
  },
  {
   "cell_type": "code",
   "execution_count": null,
   "metadata": {
    "kernel": "python3"
   },
   "outputs": [],
   "source": [
    "from awsPy.aws_authorization import aws_connector\n",
    "from awsPy.aws_s3 import service_s3\n",
    "from awsPy.aws_glue import service_glue\n",
    "from pathlib import Path\n",
    "import pandas as pd\n",
    "import numpy as np\n",
    "#import seaborn as sns\n",
    "import os, shutil, json\n",
    "import sys\n",
    "\n",
    "path = os.getcwd()\n",
    "parent_path = str(Path(path).parent.parent)\n",
    "\n",
    "\n",
    "name_credential = 'financial_dep_SO2_accessKeys.csv'\n",
    "region = 'eu-west-2'\n",
    "bucket = 'datalake-london'\n",
    "path_cred = \"{0}/creds/{1}\".format(parent_path, name_credential)"
   ]
  },
  {
   "cell_type": "code",
   "execution_count": null,
   "metadata": {
    "kernel": "python3"
   },
   "outputs": [],
   "source": [
    "con = aws_connector.aws_instantiate(credential = path_cred,\n",
    "                                       region = region)\n",
    "client= con.client_boto()\n",
    "s3 = service_s3.connect_S3(client = client,\n",
    "                      bucket = bucket, verbose = False)\n",
    "glue = service_glue.connect_glue(client = client) "
   ]
  },
  {
   "cell_type": "code",
   "execution_count": null,
   "metadata": {
    "kernel": "python3"
   },
   "outputs": [],
   "source": [
    "pandas_setting = True\n",
    "if pandas_setting:\n",
    "    #cm = sns.light_palette(\"green\", as_cmap=True)\n",
    "    pd.set_option('display.max_columns', None)\n",
    "    pd.set_option('display.max_colwidth', None)"
   ]
  },
  {
   "cell_type": "code",
   "execution_count": null,
   "metadata": {
    "kernel": "python3",
    "nteract": {
     "transient": {
      "deleting": false
     }
    }
   },
   "outputs": [],
   "source": [
    "os.environ['KMP_DUPLICATE_LIB_OK']='True'\n"
   ]
  },
  {
   "cell_type": "markdown",
   "metadata": {
    "kernel": "SoS"
   },
   "source": [
    "# Load tables\n",
    "\n",
    "Since we load the data as a Pandas DataFrame, we want to pass the `dtypes`. We load the schema from Glue to guess the types"
   ]
  },
  {
   "cell_type": "code",
   "execution_count": null,
   "metadata": {
    "kernel": "python3"
   },
   "outputs": [],
   "source": [
    "db = 'environment'\n",
    "table = 'fin_dep_pollution_baseline_industry'"
   ]
  },
  {
   "cell_type": "code",
   "execution_count": null,
   "metadata": {
    "kernel": "python3"
   },
   "outputs": [],
   "source": [
    "dtypes = {}\n",
    "schema = (glue.get_table_information(database = db,\n",
    "                           table = table)\n",
    "          ['Table']['StorageDescriptor']['Columns']\n",
    "         )\n",
    "for key, value in enumerate(schema):\n",
    "    if value['Type'] in ['varchar(12)',\n",
    "                         'varchar(3)',\n",
    "                        'varchar(14)', 'varchar(11)']:\n",
    "        format_ = 'string'\n",
    "    elif value['Type'] in ['decimal(21,5)', 'double', 'bigint', 'int', 'float']:\n",
    "        format_ = 'float'\n",
    "    else:\n",
    "        format_ = value['Type'] \n",
    "    dtypes.update(\n",
    "        {value['Name']:format_}\n",
    "    )"
   ]
  },
  {
   "cell_type": "code",
   "execution_count": null,
   "metadata": {
    "kernel": "python3"
   },
   "outputs": [],
   "source": [
    "s3 = service_s3.connect_S3(client = client,\n",
    "                          bucket = bucket, verbose = False)"
   ]
  },
  {
   "cell_type": "code",
   "execution_count": null,
   "metadata": {
    "kernel": "python3",
    "nteract": {
     "transient": {
      "deleting": false
     }
    }
   },
   "outputs": [],
   "source": [
    "pd.DataFrame(schema)"
   ]
  },
  {
   "cell_type": "markdown",
   "metadata": {
    "kernel": "SoS",
    "nteract": {
     "transient": {
      "deleting": false
     }
    }
   },
   "source": [
    "## Schema Latex table\n",
    "\n",
    "To rename a variable, please use the following template:\n",
    "\n",
    "```\n",
    "{\n",
    "    'old':'XX',\n",
    "    'new':'XX_1'\n",
    "    }\n",
    "```\n",
    "\n",
    "if you need to pass a latex format with `\\`, you need to duplicate it for instance, `\\text` becomes `\\\\text:\n",
    "\n",
    "```\n",
    "{\n",
    "    'old':'working\\_capital\\_i',\n",
    "    'new':'\\\\text{working capital}_i'\n",
    "    }\n",
    "```\n",
    "\n",
    "Then add it to the key `to_rename`"
   ]
  },
  {
   "cell_type": "code",
   "execution_count": null,
   "metadata": {
    "kernel": "python3",
    "nteract": {
     "transient": {
      "deleting": false
     }
    }
   },
   "outputs": [],
   "source": [
    "add_to_dic = True\n",
    "if add_to_dic:\n",
    "    if os.path.exists(\"schema_table.json\"):\n",
    "        os.remove(\"schema_table.json\")\n",
    "    data = {'to_rename':[], 'to_remove':[]}\n",
    "    dic_rename =  [\n",
    "        {\n",
    "        'old':'periodTRUE',\n",
    "        'new':'\\\\text{period}'\n",
    "        },\n",
    "        {\n",
    "        'old':'period',\n",
    "        'new':'\\\\text{period}'\n",
    "        },\n",
    "        \n",
    "        ### depd\n",
    "        ###mandate\n",
    "        {\n",
    "        'old':'tso2\\_mandate\\_c',\n",
    "        'new':'\\\\text{S02 mandate}_c'\n",
    "        },\n",
    "        {\n",
    "        'old':'target\\_reduction\\_so2\\_p',\n",
    "        'new':'\\\\text{S02 mandate}_p'\n",
    "        },\n",
    "        {\n",
    "        'old':'target\\_reduction\\_co2\\_p',\n",
    "        'new':'\\\\text{COD mandate}_p'\n",
    "        },\n",
    "        ### financial ratio\n",
    "        {\n",
    "        'old':'total\\_asset',\n",
    "        'new':'\\\\text{total asset}'\n",
    "        },\n",
    "        {\n",
    "        'old':'tangible',\n",
    "        'new':'\\\\text{tangible asset}'\n",
    "        },\n",
    "        {\n",
    "        'old':'investment\\_tot\\_asset',\n",
    "        'new':'\\\\text{investment to asset}'\n",
    "        },\n",
    "        {\n",
    "        'old':'rd\\_tot\\_asset',\n",
    "        'new':'\\\\text{rd to asset}'\n",
    "        },\n",
    "        {\n",
    "        'old':'asset\\_tangibility\\_tot\\_asset',\n",
    "        'new':'\\\\text{asset tangibility}'\n",
    "        },\n",
    "        {\n",
    "        'old':'d\\_avg\\_ij\\_o\\_city\\_mandate',\n",
    "        'new':'\\\\text{relative reduction mandate}_c'\n",
    "        },\n",
    "        ### ind\n",
    "        {\n",
    "        'old':'current\\_ratio',\n",
    "        'new':'\\\\text{current ratio}'\n",
    "        },\n",
    "        {\n",
    "        'old':'lag\\_current\\_ratio',\n",
    "        'new':'\\\\text{current ratio}'\n",
    "        },\n",
    "        {\n",
    "        'old':'quick\\_ratio',\n",
    "        'new':'\\\\text{quick ratio}'\n",
    "        },\n",
    "        {\n",
    "        'old':'lag\\_liabilities\\_tot\\_asset',\n",
    "        'new':'\\\\text{liabilities to asset}'\n",
    "        },\n",
    "        {\n",
    "        'old':'liabilities\\_tot\\_asset',\n",
    "        'new':'\\\\text{liabilities to asset}'\n",
    "        },\n",
    "        {\n",
    "        'old':'sales\\_tot\\_asset',\n",
    "        'new':'\\\\text{sales to asset}'\n",
    "        },\n",
    "        {\n",
    "        'old':'lag\\_sales\\_tot\\_asset',\n",
    "        'new':'\\\\text{sales to asset}'\n",
    "        },\n",
    "        {\n",
    "        'old':'cash\\_tot\\_asset',\n",
    "        'new':'\\\\text{cash to asset}'\n",
    "        },\n",
    "        {\n",
    "        'old':'cashflow\\_tot\\_asset',\n",
    "        'new':'\\\\text{cashflow to asset}'\n",
    "        },\n",
    "        {\n",
    "        'old':'cashflow\\_to\\_tangible',\n",
    "        'new':'\\\\text{cashflow}'\n",
    "        },\n",
    "        {\n",
    "        'old':'lag\\_cashflow\\_to\\_tangible',\n",
    "        'new':'\\\\text{cashflow}'\n",
    "        },\n",
    "        {\n",
    "        'old':'d\\_credit\\_constraintBELOW',\n",
    "        'new':'\\\\text{Fin dep}_{i}'\n",
    "        },\n",
    "        ## control\n",
    "        {\n",
    "        'old':'age + 1',\n",
    "        'new':'\\\\text{age}'\n",
    "        },\n",
    "        {\n",
    "        'old':'export\\_to\\_sale',\n",
    "        'new':'\\\\text{export to sale}'\n",
    "        },\n",
    "        {\n",
    "        'old':'labor\\_capital',\n",
    "        'new':'\\\\text{labor to capital}'\n",
    "        },\n",
    "        ### Supply demand external finance\n",
    "        {\n",
    "        'old':'supply\\_all\\_credit',\n",
    "        'new':'\\\\text{all credit}'\n",
    "        },\n",
    "        {\n",
    "        'old':'lag\\_credit\\_supply\\_short\\_term',\n",
    "        'new':'\\\\text{Short term loan}_{pt}'\n",
    "        },\n",
    "        {\n",
    "        'old':'lag\\_credit\\_supply',\n",
    "        'new':'\\\\text{All loan}_{pt}'\n",
    "        },\n",
    "        {\n",
    "        'old':'lag\\_credit\\_supply\\_long\\_term',\n",
    "        'new':'\\\\text{Long-term loan}_{pt}'\n",
    "        },\n",
    "        {\n",
    "        'old':'fin\\_dev',\n",
    "        'new':'\\\\text{financial development}_{pt}'\n",
    "        },\n",
    "        {\n",
    "        'old':'credit\\_constraint',\n",
    "        'new':'\\\\text{credit constraint}'\n",
    "        },\n",
    "        {\n",
    "        'old':'soe\\_vs\\_priPRIVATE',\n",
    "        'new':'\\\\text{private}'\n",
    "        },\n",
    "        ## TFP\n",
    "        {\n",
    "        'old':'tfp\\_cit',\n",
    "        'new':'\\\\text{TFP}'\n",
    "        },\n",
    "        ### year\n",
    "        {\n",
    "        'old':'year1998',\n",
    "        'new':'\\\\text{1998}'\n",
    "        },\n",
    "        {\n",
    "        'old':'year1999',\n",
    "        'new':'\\\\text{1999}'\n",
    "        },\n",
    "        {\n",
    "        'old':'year2000',\n",
    "        'new':'\\\\text{2000}'\n",
    "        },\n",
    "        {\n",
    "        'old':'year2001',\n",
    "        'new':'\\\\text{2001}'\n",
    "        },\n",
    "        {\n",
    "        'old':'year2002',\n",
    "        'new':'\\\\text{2002}'\n",
    "        },\n",
    "        {\n",
    "        'old':'year2003',\n",
    "        'new':'\\\\text{2003}'\n",
    "        },\n",
    "        {\n",
    "        'old':'year2004',\n",
    "        'new':'\\\\text{2004}'\n",
    "        },\n",
    "        {\n",
    "        'old':'year2005',\n",
    "        'new':'\\\\text{2005}'\n",
    "        },\n",
    "        {\n",
    "        'old':'year2006',\n",
    "        'new':'\\\\text{2006}'\n",
    "        },\n",
    "        {\n",
    "        'old':'year2007',\n",
    "        'new':'\\\\text{2007}'\n",
    "        },\n",
    "        \n",
    "        \n",
    "    ]\n",
    "    \n",
    "\n",
    "    data['to_rename'].extend(dic_rename)\n",
    "    with open('schema_table.json', 'w') as outfile:\n",
    "        json.dump(data, outfile)"
   ]
  },
  {
   "cell_type": "code",
   "execution_count": null,
   "metadata": {
    "kernel": "python3"
   },
   "outputs": [],
   "source": [
    "sys.path.append(os.path.join(parent_path, 'utils'))\n",
    "import latex.latex_beautify as lb\n",
    "#%load_ext autoreload\n",
    "#%autoreload 2"
   ]
  },
  {
   "cell_type": "markdown",
   "metadata": {
    "kernel": "SoS"
   },
   "source": [
    "# Figure 1: Replicate \n",
    "\n",
    "![](https://codahosted.io/docs/vZByVL8huL/blobs/bl-sajJfsQwXX/14315190aca1a95fe2ee53503f33ff08a5c515228a81dd59f0c2189be7d33a9267d1dd2a066a938c24fabe6e61697ba84c3003e472e210fb2932efc3b27e77ef7afc50230c22e83cad885484a67e901c181a98caf748d89b27316966f8ae71f823c140f9)\n",
    "\n",
    "1. From this link: [so2-emissions_china](https://docs.google.com/spreadsheets/d/1AR5Km3LCOMJVYm14cbjqbcscjZ3fkBLvYU6bu_bf-4I/edit?usp=sharing) → source https://ourworldindata.org/air-pollution-does-it-get-worse-before-it-gets-better"
   ]
  },
  {
   "cell_type": "code",
   "execution_count": null,
   "metadata": {
    "kernel": "python3"
   },
   "outputs": [],
   "source": [
    "#!pip install --upgrade git+git://github.com/thomaspernet/GoogleDrive-python"
   ]
  },
  {
   "cell_type": "code",
   "execution_count": null,
   "metadata": {
    "kernel": "python3"
   },
   "outputs": [],
   "source": [
    "from GoogleDrivePy.google_drive import connect_drive\n",
    "from GoogleDrivePy.google_authorization import authorization_service\n",
    "import seaborn as sns;\n",
    "import matplotlib.pyplot as plt\n",
    "sns.set()\n",
    "sns.set_style(\"white\")"
   ]
  },
  {
   "cell_type": "code",
   "execution_count": null,
   "metadata": {
    "kernel": "python3"
   },
   "outputs": [],
   "source": [
    "for d in ['token.pickle', 'service.json']:\n",
    "    s3.download_file(key = \"CREDS/pollution_credit_constraint/creds/{}\".format(d),\n",
    "                 path_local = os.path.join(parent_path, \"creds\"))"
   ]
  },
  {
   "cell_type": "code",
   "execution_count": null,
   "metadata": {
    "kernel": "python3"
   },
   "outputs": [],
   "source": [
    "os.path.join(\n",
    "    parent_path, \"creds\", \"service.json\")"
   ]
  },
  {
   "cell_type": "code",
   "execution_count": null,
   "metadata": {
    "kernel": "python3"
   },
   "outputs": [],
   "source": [
    "auth = authorization_service.get_authorization(\n",
    "    #path_credential_gcp=os.path.join(parent_path, \"creds\", \"service.json\"),\n",
    "    path_credential_drive=os.path.join(parent_path, \"creds\"),\n",
    "    verbose=False,\n",
    "    # scope = ['https://www.googleapis.com/auth/spreadsheets.readonly',\n",
    "    # \"https://www.googleapis.com/auth/drive\"]\n",
    ")\n",
    "gd_auth = auth.authorization_drive(path_secret=os.path.join(\n",
    "    parent_path, \"creds\", \"credentials.json\"))\n",
    "drive = connect_drive.drive_operations(gd_auth)"
   ]
  },
  {
   "cell_type": "code",
   "execution_count": null,
   "metadata": {
    "kernel": "python3"
   },
   "outputs": [],
   "source": [
    "FILENAME_SPREADSHEET = \"so2-emissions_china\"\n",
    "spreadsheet_id = drive.find_file_id(FILENAME_SPREADSHEET, to_print=False)\n",
    "sheetName = 'so2-emissions_china.csv'\n",
    "var = (\n",
    "    drive.upload_data_from_spreadsheet(\n",
    "        sheetID=spreadsheet_id,\n",
    "        sheetName=sheetName,\n",
    "        to_dataframe=True)\n",
    "    .assign(\n",
    "    so2 = lambda x: pd.to_numeric(x['SO2(10.000 tons)'])\n",
    "    )\n",
    ")"
   ]
  },
  {
   "cell_type": "code",
   "execution_count": null,
   "metadata": {
    "kernel": "python3"
   },
   "outputs": [],
   "source": [
    "fig, ax = plt.subplots(figsize=(10, 8))\n",
    "ax.plot(var['Year'], var['so2'])\n",
    "ax.axvline(x='2006', c='red')\n",
    "ax.spines['right'].set_visible(False)\n",
    "ax.spines['top'].set_visible(False)\n",
    "ax.annotate('Introduction of the\\n 11th FYP', xy=('2006', 2600), xytext=('2008', 2600),\n",
    "            arrowprops=dict(facecolor='black', shrink=0.1),\n",
    "            )\n",
    "plt.xlabel('Year')\n",
    "# Set y-axis label\n",
    "plt.ylabel('SO2 (10.000 tons)')\n",
    "plt.xticks(rotation=30)\n",
    "#plt.title('SO2 emission in China from 2000 to 2010')\n",
    "#plt.show()\n",
    "plt.savefig(\"Figures/fig_1.png\",\n",
    "            bbox_inches='tight',\n",
    "            dpi=600)"
   ]
  },
  {
   "cell_type": "markdown",
   "metadata": {
    "kernel": "SoS"
   },
   "source": [
    "# Figure 2: Replicate\n",
    "\n",
    "![](https://codahosted.io/docs/vZByVL8huL/blobs/bl-00qo5tfgdE/fd2d69dbea92066913d55517e60d1e87dc5fe752ef79831b4415ca43b2ec8897668f47f6922cc67a056452bbda81e3f6a642240595304282cebe9bf57246c6066ce6fffbcbe0b11332d6eb60daf435522f528a51b3835d8136c125aa570434efeb6e8bc2)"
   ]
  },
  {
   "cell_type": "code",
   "execution_count": null,
   "metadata": {
    "kernel": "python3"
   },
   "outputs": [],
   "source": [
    "query = \"\"\"\n",
    "SELECT year, avg(fin_dep) as fin_dep\n",
    "FROM(\n",
    "SELECT DISTINCT(1- share_big_loan) AS fin_dep,province_en, year\n",
    "FROM {}.{}\n",
    "WHERE so2_intensity > 0 AND tso2 > 500 AND year NOT IN ('2005', '2006', '2007')\n",
    ")\n",
    "GROUP BY year\n",
    "ORDER BY year\n",
    "    \"\"\".format(db, table)\n",
    "df = s3.run_query(\n",
    "            query=query,\n",
    "            database=db,\n",
    "            s3_output='SQL_OUTPUT_ATHENA',\n",
    "            filename='fig_2',  # Add filename to print dataframe\n",
    "            destination_key='SQL_OUTPUT_ATHENA/CSV',  #Use it temporarily\n",
    "            dtype = {'year':'string', 'fin_dep':'float'}\n",
    ")\n",
    "        \n",
    "df.head()"
   ]
  },
  {
   "cell_type": "code",
   "execution_count": null,
   "metadata": {
    "kernel": "python3"
   },
   "outputs": [],
   "source": [
    "fig, ax = plt.subplots(figsize=(10, 8))\n",
    "ax.plot(df['year'], df['fin_dep'])\n",
    "plt.xlabel('Year')\n",
    "plt.ylabel(\"share of non-4-SOCBs' share in total credit\")\n",
    "ax.spines['right'].set_visible(False)\n",
    "ax.spines['top'].set_visible(False)\n",
    "plt.xticks(rotation=30)\n",
    "#plt.title('Evolution of share of non-state bank in total loan')\n",
    "#plt.show()\n",
    "plt.savefig(\"Figures/fig_2.png\",\n",
    "            bbox_inches='tight',\n",
    "            dpi=600)"
   ]
  },
  {
   "cell_type": "markdown",
   "metadata": {
    "kernel": "SoS"
   },
   "source": [
    "# Figure 3: replicate \n",
    "\n",
    "![](https://codahosted.io/docs/vZByVL8huL/blobs/bl-vny1krGci-/2df6ba87e3e9d9f3defdb5c0fa2a9aaa0f7e770e29284f176a1f8a7e1d538d3122b8e89587df3e1c1305862e9871705af430018d4818b5b538a519440acc8840a30bd5497032d1a18c736ffe811d61012796f0e799c8a440bee33fac087709fe434afecf)"
   ]
  },
  {
   "cell_type": "code",
   "execution_count": null,
   "metadata": {
    "kernel": "python3"
   },
   "outputs": [],
   "source": [
    "query = \"\"\"\n",
    "SELECT \n",
    "  map_keys(pct_change) [1] as key, \n",
    "  map_values(pct_change) [1] as pct_change, \n",
    "  map_values(target) [1] as target \n",
    "FROM \n",
    "  (\n",
    "    SELECT \n",
    "      transform_values(\n",
    "        multimap_agg(province_en, tso2), \n",
    "        (k, v) -> CAST(\n",
    "          v[1] - v[2] AS DECIMAL(16, 5)\n",
    "        )/ v[1]\n",
    "      ) as pct_change, \n",
    "      transform_values(\n",
    "        map_agg(province_en, target), \n",
    "        (k, v) -> v * 1\n",
    "      ) as target \n",
    "    FROM \n",
    "      (\n",
    "        SELECT \n",
    "          CAST(\n",
    "            SUM(tso2) AS double\n",
    "          ) as tso2, \n",
    "          AVG(target_reduction_so2_p) AS target, \n",
    "          province_en, \n",
    "          year \n",
    "        FROM \n",
    "          fin_dep_pollution_baseline_industry \n",
    "        WHERE \n",
    "          so2_intensity > 0 \n",
    "          AND tso2 > 500 \n",
    "          AND year IN ('2002', '2007') \n",
    "        GROUP BY \n",
    "          year, \n",
    "          province_en \n",
    "        ORDER BY \n",
    "          province_en, \n",
    "          year\n",
    "      ) \n",
    "    GROUP BY \n",
    "      province_en\n",
    "  )\n",
    "    \"\"\".format(db, table)\n",
    "df = s3.run_query(\n",
    "            query=query,\n",
    "            database=db,\n",
    "            s3_output='SQL_OUTPUT_ATHENA',\n",
    "            filename='fig_3',  # Add filename to print dataframe\n",
    "            destination_key='SQL_OUTPUT_ATHENA/CSV',  #Use it temporarily\n",
    "            dtype = {'key':'string', 'pct_change':'float', 'target':'float'}\n",
    ")\n",
    "        \n",
    "df.head()"
   ]
  },
  {
   "cell_type": "code",
   "execution_count": null,
   "metadata": {
    "kernel": "python3"
   },
   "outputs": [],
   "source": [
    "plt.figure(figsize=(10, 8))\n",
    "ax = sns.lmplot(x='target',\n",
    "           y=\"pct_change\",\n",
    "           data=df.loc[lambda x: ~x['key'].isin(['Qinghai'])])\n",
    "#plt.title('Relationship between policy mandate and variation of SO2 between 2002 and 2007')\n",
    "# Set x-axis label\n",
    "plt.xlabel('Provincial Reduction Target (10.000 tons)')\n",
    "# Set y-axis label\n",
    "plt.ylabel('Actual Pollution Reduction (%)')\n",
    "plt.savefig(\"Figures/fig_3.png\",\n",
    "            bbox_inches='tight',\n",
    "            dpi=600)"
   ]
  },
  {
   "cell_type": "markdown",
   "metadata": {
    "kernel": "SoS"
   },
   "source": [
    "# Figure 4: parallel trend"
   ]
  },
  {
   "cell_type": "code",
   "execution_count": null,
   "metadata": {
    "kernel": "R"
   },
   "outputs": [],
   "source": [
    "options(warn=-1)\n",
    "library(tidyverse)\n",
    "library(lfe)\n",
    "library(lazyeval)\n",
    "library('progress')\n",
    "#path = \"../../../utils/latex/table_golatex.R\""
   ]
  },
  {
   "cell_type": "code",
   "execution_count": null,
   "metadata": {
    "kernel": "SoS"
   },
   "outputs": [],
   "source": [
    "import os\n",
    "from pathlib import Path\n",
    "filename = 'df_{}'.format(\"fin_dep_pollution_baseline_industry\")\n",
    "path = os.getcwd()\n",
    "path_local = os.path.join(str(Path(path).parent.parent), \n",
    "                              \"00_data_catalog/temporary_local_data\")\n",
    "df_path = os.path.join(path_local, filename + '.csv')"
   ]
  },
  {
   "cell_type": "code",
   "execution_count": null,
   "metadata": {
    "kernel": "R"
   },
   "outputs": [],
   "source": [
    "%get df_path\n",
    "df_final <- read_csv(df_path) %>%\n",
    "mutate_if(is.character, as.factor) %>%\n",
    "    mutate_at(vars(starts_with(\"fe\")), as.factor) %>%\n",
    "mutate(\n",
    "    year = relevel(as.factor(year), ref='2001'),\n",
    "    period = relevel(as.factor(period), ref='FALSE'),\n",
    "    polluted_d50i = relevel(as.factor(polluted_d50i), ref='BELOW'),\n",
    "    polluted_d75i = relevel(as.factor(polluted_d75i), ref='BELOW'),\n",
    "    polluted_d80i = relevel(as.factor(polluted_d80i), ref='BELOW'),\n",
    "    polluted_d85i = relevel(as.factor(polluted_d85i), ref='BELOW'),\n",
    "    polluted_d90i = relevel(as.factor(polluted_d90i), ref='BELOW'),\n",
    "    polluted_d95i = relevel(as.factor(polluted_d95i), ref='BELOW'),\n",
    "    polluted_mi = relevel(as.factor(polluted_mi), ref='BELOW'),\n",
    "    d_avg_ij_o_city_mandate = relevel(as.factor(d_avg_ij_o_city_mandate), ref=\"FALSE\"),\n",
    "   fin_dev = 1- share_big_loan,\n",
    "    lag_fin_dev = 1- lag_share_big_loan,\n",
    ")%>%\n",
    "group_by(province_en, ind2, year, period, fe_p_i , fe_t_i , fe_p_t) %>%\n",
    "summarize(\n",
    "    tso2 = sum(tso2),\n",
    "    tcod = sum(tcod),\n",
    "   twaste_water = sum(twaste_water),\n",
    "    output = sum(output),\n",
    "    employment = sum(employment),\n",
    "    capital = sum(capital),\n",
    "    target_reduction_so2_p = max(target_reduction_so2_p),\n",
    "    target_reduction_co2_p = max(target_reduction_co2_p),\n",
    "    lag_credit_supply = max(lag_credit_supply),\n",
    "    lag_credit_supply_long_term = max(lag_credit_supply_long_term),\n",
    "    fin_dev = max(fin_dev),\n",
    "    lag_fin_dev = max(lag_fin_dev),\n",
    "   credit_constraint = max(credit_constraint),\n",
    ") %>%\n",
    "ungroup()%>%\n",
    "mutate(\n",
    "    year = relevel(as.factor(year), ref='2005'),\n",
    "    year1 = relevel(as.factor(year), ref='2005')\n",
    ")\n",
    "\n",
    "head(df_final)"
   ]
  },
  {
   "cell_type": "code",
   "execution_count": null,
   "metadata": {
    "kernel": "R"
   },
   "outputs": [],
   "source": [
    "t_0 <- felm(log(tso2) ~  \n",
    "           credit_constraint * target_reduction_so2_p * year\n",
    "           |  fe_p_i + fe_t_i + fe_p_t|0 | province_en +ind2, df_final%>% \n",
    "             filter( target_reduction_so2_p > 0),\n",
    "            exactDOF = TRUE)"
   ]
  },
  {
   "cell_type": "code",
   "execution_count": null,
   "metadata": {
    "kernel": "R"
   },
   "outputs": [],
   "source": [
    "na.omit(summary(t_0)$coef)"
   ]
  },
  {
   "cell_type": "code",
   "execution_count": null,
   "metadata": {
    "kernel": "R"
   },
   "outputs": [],
   "source": [
    "write.csv(na.omit(summary(t_0)$coef),\"standard_errors.csv\")"
   ]
  },
  {
   "cell_type": "code",
   "execution_count": null,
   "metadata": {
    "kernel": "python3"
   },
   "outputs": [],
   "source": [
    "df_sd = (\n",
    "    pd.read_csv(\"standard_errors.csv\")\n",
    "    .rename(columns={\"Unnamed: 0\": \"var\"})\n",
    "    .assign(\n",
    "        year=lambda x: x[\"var\"]\n",
    "        .str.split(\":\")\n",
    "        .apply(lambda x: x[-1])\n",
    "        .str.extract(\"(\\d+)\"),\n",
    "        test=lambda x: 1.96 * x[\"Cluster s.e.\"],\n",
    "        st_error_upper=lambda x: x[\"Estimate\"] + 1.96 * x[\"Cluster s.e.\"],\n",
    "        st_error_lower=lambda x: x[\"Estimate\"] - 1.96 * x[\"Cluster s.e.\"],\n",
    "    )\n",
    "    .append(\n",
    "        pd.DataFrame(\n",
    "            data=[[\"\", np.nan, \"\", \"\", \"\", \"2005\", \"\", np.nan, np.nan]],\n",
    "            columns=[\n",
    "                \"var\",\n",
    "                \"Estimate\",\n",
    "                \"Cluster s.e.\",\n",
    "                \"t value\",\n",
    "                \"Pr(>|t|)\",\n",
    "                \"year\",\n",
    "                \"test\",\n",
    "                \"st_error_upper\",\n",
    "                \"st_error_lower\",\n",
    "            ],\n",
    "        )\n",
    "    )\n",
    "    .sort_values(by=[\"year\"])\n",
    ")\n",
    "df_sd"
   ]
  },
  {
   "cell_type": "code",
   "execution_count": null,
   "metadata": {
    "kernel": "python3"
   },
   "outputs": [],
   "source": [
    "sns.set(color_codes=True)\n",
    "sns.set_style(\"white\")"
   ]
  },
  {
   "cell_type": "markdown",
   "metadata": {
    "kernel": "python3"
   },
   "source": [
    "Only the years with confidence intervervales different from 0 are significant"
   ]
  },
  {
   "cell_type": "code",
   "execution_count": null,
   "metadata": {
    "kernel": "python3"
   },
   "outputs": [],
   "source": [
    "fig, ax = plt.subplots(figsize=(10, 8))\n",
    "for lower,upper,y in zip(df_sd['st_error_lower'],df_sd['st_error_upper'],df_sd['year']):\n",
    "    plt.plot((y,y),(lower,upper),'ro-')\n",
    "plt.plot(df_sd['year'], df_sd['Estimate'], 'ro')\n",
    "plt.axhline(linewidth=1, color='r')\n",
    "ax.axvline(x='2005', c='black', linestyle = '--')\n",
    "plt.xlabel('Year')\n",
    "plt.ylabel(\"Estimated coefficient\")\n",
    "ax.spines['right'].set_visible(False)\n",
    "ax.spines['top'].set_visible(False)\n",
    "plt.xticks(rotation=30)\n",
    "#plt.title('Parallel trend assumption')\n",
    "\n",
    "plt.savefig(\"Figures/fig_4.png\",\n",
    "            bbox_inches='tight',\n",
    "            dpi=600)"
   ]
  },
  {
   "cell_type": "markdown",
   "metadata": {
    "kernel": "R"
   },
   "source": [
    "# Summary statistics"
   ]
  },
  {
   "cell_type": "code",
   "execution_count": null,
   "metadata": {
    "kernel": "python3"
   },
   "outputs": [],
   "source": [
    "for i in dtypes:\n",
    "    if dtypes[i] == 'varchar(5)' or dtypes[i] == 'map<double,boolean>':\n",
    "        dtypes[i] = 'string'"
   ]
  },
  {
   "cell_type": "code",
   "execution_count": null,
   "metadata": {
    "kernel": "python3"
   },
   "outputs": [],
   "source": [
    "path_local = os.path.join(str(Path(path).parent.parent), \n",
    "                              \"00_data_catalog/temporary_local_data\")\n",
    "filename = 'df_{}'.format(table)\n",
    "df_path = (\n",
    "    pd.read_csv(os.path.join(path_local, filename + '.csv'), dtype = dtypes)\n",
    "    .assign(\n",
    "        fin_dev = lambda x: 1- x['share_big_loan']\n",
    "    )\n",
    "    )"
   ]
  },
  {
   "cell_type": "code",
   "execution_count": null,
   "metadata": {
    "kernel": "python3"
   },
   "outputs": [],
   "source": [
    "list_to_sum = [\n",
    "    \"tso2\",\n",
    "    \"lag_credit_supply\",\n",
    "    \"lag_credit_supply_long_term\",\n",
    "    \"fin_dev\",\n",
    "    \"output\",\n",
    "    \"employment\",\n",
    "    \"capital\",\n",
    "    \"credit_constraint\",\n",
    "    \"target_reduction_so2_p\"\n",
    "]"
   ]
  },
  {
   "cell_type": "code",
   "execution_count": null,
   "metadata": {
    "kernel": "python3"
   },
   "outputs": [],
   "source": [
    "df_latex = (\n",
    "    df_path.reindex(columns = list_to_sum)\n",
    "    .loc[lambda x: x['tso2'] > 500]\n",
    "    .assign(\n",
    "        tso2 = lambda x: x['tso2']/10000,\n",
    "        output = lambda x: x['output']/10000,\n",
    "        employment = lambda x: x['employment']/1000,\n",
    "        capital = lambda x: x['capital']/10000,\n",
    "    )\n",
    "    .describe()\n",
    "    #.T\n",
    "    .rename(\n",
    "    columns={\n",
    "        \"tso2\": \"SO2\",\n",
    "        \"lag_credit_supply\": \"All loan\",\n",
    "        \"lag_credit_supply_long_term\": \"Long-term loan\",\n",
    "        \"fin_dev\": \"Financial development\",\n",
    "        \"output\": \"Output\",\n",
    "        \"employment\": \"Employment\",\n",
    "        \"capital\": \"Capital\",\n",
    "        \"credit_constraint\": \"credit constraint\",\n",
    "        \"target_reduction_so2_p\": \"S02 mandate\",\n",
    "    }\n",
    ")   \n",
    "    .apply(lambda x: round(x,2))\n",
    "    .T\n",
    "    .assign(\n",
    "    count = lambda x: x['count'].astype(int))\n",
    "    .to_latex()\n",
    ")"
   ]
  },
  {
   "cell_type": "code",
   "execution_count": null,
   "metadata": {
    "kernel": "python3"
   },
   "outputs": [],
   "source": [
    "import tex2pix\n",
    "from PyPDF2 import PdfFileMerger\n",
    "from wand.image import Image as WImage"
   ]
  },
  {
   "cell_type": "code",
   "execution_count": null,
   "metadata": {
    "kernel": "python3"
   },
   "outputs": [],
   "source": [
    "folder = 'Tables'\n",
    "table_number = 1\n",
    "title = 'Summary statistics'\n",
    "tb_note = \"\"\"\n",
    "The information about the SO2 level is collected using various editions of the China Environment Statistics Yearbook and is reported in millions of tons.\n",
    "S02 mandate is the reduction mandate imposed by the centra government to each province in China.\n",
    "Financial development is the share of non-state bank in total loan. Available from 1998 to 2004; All loan and long term loan are the total loan and total of long term loan supplied\n",
    "normalised by the province GDP.\n",
    "credit constraint is the measure of financial external dependency. Larger values indicate stronger dependence to credit.\n",
    "output is measured in ,  employment is measured in and Capital \n",
    "\"\"\"\n",
    "with open('{}/table_{}.tex'.format(folder,table_number), 'w') as fout:\n",
    "    for i in range(len( df_latex)):\n",
    "        if i ==0:\n",
    "            header= \"\\documentclass[preview]{standalone} \\n\\\\usepackage[utf8]{inputenc}\\n\" \\\n",
    "            \"\\\\usepackage{booktabs,caption,threeparttable, siunitx, adjustbox}\\n\\n\" \\\n",
    "            \"\\\\begin{document}\"\n",
    "            top =  '\\n\\\\begin{adjustbox}{width=\\\\textwidth, totalheight=\\\\textheight-2\\\\baselineskip,keepaspectratio}\\n'\n",
    "            table_top = \"\\n\\\\begin{table}[!htbp] \\centering\"\n",
    "            table_title = \"\\n\\caption{%s}\\n\" % title\n",
    "            \n",
    "            fout.write(header)\n",
    "            fout.write(table_top)\n",
    "            fout.write(table_title)\n",
    "            fout.write(top)\n",
    "           \n",
    "        fout.write( df_latex[i])\n",
    "    \n",
    "    bottom =  '\\n\\\\end{adjustbox}\\n'\n",
    "    tb_note_top = \"\\n\\\\begin{tablenotes}\\n\\small\\n\\item\"\n",
    "    table_bottom = \"\\n\\end{table}\"\n",
    "    footer = \"\\n\\n\\\\end{document}\"\n",
    "    tb_note_bottom = \"\\n\\end{tablenotes}\"\n",
    "    fout.write(bottom)\n",
    "    fout.write(tb_note_top)\n",
    "    fout.write(tb_note)\n",
    "    fout.write(tb_note_bottom)\n",
    "    fout.write(table_bottom)\n",
    "    fout.write(footer)\n",
    " \n",
    "f = open('{}/table_{}.tex'.format(folder,table_number))\n",
    "r = tex2pix.Renderer(f, runbibtex=False)\n",
    "r.mkpdf('{}/table_{}.pdf'.format(folder,table_number))\n",
    "img = WImage(filename='{}/table_{}.pdf'.format(folder,table_number),\n",
    "resolution = 200)\n",
    "display(img)"
   ]
  },
  {
   "cell_type": "markdown",
   "metadata": {},
   "source": [
    "# Figure and table part: A measure of financial development\n",
    "\n",
    "## Figure credit supply by location\n",
    "\n",
    "- Use this table `province_loan_and_credit` and `geo_chinese_province_location` to get the location"
   ]
  },
  {
   "cell_type": "code",
   "execution_count": null,
   "metadata": {},
   "outputs": [],
   "source": [
    "import janitor"
   ]
  },
  {
   "cell_type": "code",
   "execution_count": null,
   "metadata": {},
   "outputs": [],
   "source": [
    "query = \"\"\"\n",
    "SELECT * \n",
    "FROM \"almanac_bank_china\".\"province_loan_and_credit\"\n",
    "LEFT JOIN (\n",
    "SELECT province_en, larger_location\n",
    "FROM \"chinese_lookup\".\"geo_chinese_province_location\"\n",
    ") as prov on province_loan_and_credit.province_en = prov.province_en\n",
    "\"\"\"\n",
    "df = (\n",
    "    s3.run_query(\n",
    "            query=query,\n",
    "            database=db,\n",
    "            s3_output='SQL_OUTPUT_ATHENA',\n",
    "            filename='fig_2',  # Add filename to print dataframe\n",
    "            destination_key='SQL_OUTPUT_ATHENA/CSV',  #Use it temporarily\n",
    "            dtype = {'year':'string', 'fin_dep':'float'}\n",
    ")\n",
    "    .assign(\n",
    "        supply_long_term = lambda x: x['total_long_term_loan']/x['total_gdp'],\n",
    "    )\n",
    "    .groupby(['year','larger_location'])\n",
    "    .agg({'supply_long_term':'mean'})\n",
    "    .unstack(-1)\n",
    "    .collapse_levels(sep='_')\n",
    "    .rename(columns = {\n",
    "        'supply_long_term_Central':'Central',\n",
    "        'supply_long_term_Eastern':'Eastern',\n",
    "        'supply_long_term_Western':'Western'\n",
    "    })\n",
    ")\n",
    "\n",
    "        \n",
    "df.head()"
   ]
  },
  {
   "cell_type": "code",
   "execution_count": null,
   "metadata": {},
   "outputs": [],
   "source": [
    "import matplotlib"
   ]
  },
  {
   "cell_type": "code",
   "execution_count": null,
   "metadata": {},
   "outputs": [],
   "source": [
    "fig, ax = plt.subplots(figsize=(10, 8))\n",
    "ax.plot(df.index, df['Central'], label=\"Central\")\n",
    "ax.plot(df.index, df['Eastern'],label=\"Eastern\")\n",
    "ax.plot(df.index, df['Western'],label=\"Western\")\n",
    "plt.xlabel('Year')\n",
    "plt.ylabel(\"Share of long term credit supply over GDP\")\n",
    "ax.spines['right'].set_visible(False)\n",
    "ax.spines['top'].set_visible(False)\n",
    "ax.legend(bbox_to_anchor=(1.08, 1), loc=2, borderaxespad=0.)\n",
    "plt.xticks(df.index,rotation=30)\n",
    "#plt.title('Evolution of share of non-state bank in total loan')\n",
    "#plt.show()\n",
    "plt.savefig(\"Figures/fig_5.png\",\n",
    "            bbox_inches='tight',\n",
    "            dpi=600)"
   ]
  },
  {
   "cell_type": "markdown",
   "metadata": {
    "kernel": "SoS",
    "nteract": {
     "transient": {
      "deleting": false
     }
    }
   },
   "source": [
    "# Generate reports"
   ]
  },
  {
   "cell_type": "code",
   "execution_count": null,
   "metadata": {
    "kernel": "python3",
    "nteract": {
     "transient": {
      "deleting": false
     }
    },
    "outputExpanded": false
   },
   "outputs": [],
   "source": [
    "import os, time, shutil, urllib, ipykernel, json\n",
    "from pathlib import Path\n",
    "from notebook import notebookapp\n",
    "import sys\n",
    "path = os.getcwd()\n",
    "parent_path = str(Path(path).parent.parent.parent)\n",
    "sys.path.append(os.path.join(parent_path, 'utils'))\n",
    "import make_toc\n",
    "import create_report"
   ]
  },
  {
   "cell_type": "code",
   "execution_count": null,
   "metadata": {
    "kernel": "python3"
   },
   "outputs": [],
   "source": [
    "name_json = 'parameters_ETL_pollution_credit_constraint.json'\n",
    "path_json = os.path.join(str(Path(path).parent.parent), 'utils',name_json)"
   ]
  },
  {
   "cell_type": "code",
   "execution_count": null,
   "metadata": {
    "kernel": "python3",
    "nteract": {
     "transient": {
      "deleting": false
     }
    },
    "outputExpanded": false
   },
   "outputs": [],
   "source": [
    "create_report.create_report(extension = \"html\", keep_code = False,\n",
    "                            notebookname = \"00_final_publishable_tables_figures.ipynb\")"
   ]
  }
 ],
 "metadata": {
  "jupytext": {
   "formats": "ipynb,md"
  },
  "kernel_info": {
   "name": "python3"
  },
  "kernelspec": {
   "display_name": "Python 3",
   "language": "python",
   "name": "python3"
  },
  "language_info": {
   "codemirror_mode": {
    "name": "ipython",
    "version": 3
   },
   "file_extension": ".py",
   "mimetype": "text/x-python",
   "name": "python",
   "nbconvert_exporter": "python",
   "pygments_lexer": "ipython3",
   "version": "3.8.5"
  },
  "nteract": {
   "version": "0.26.0"
  },
  "sos": {
   "kernels": [
    [
     "R",
     "ir",
     "R",
     "#DCDCDA",
     "r"
    ],
    [
     "SoS",
     "sos",
     "",
     "",
     "sos"
    ],
    [
     "python3",
     "python3",
     "python",
     "",
     {
      "name": "ipython",
      "version": 3
     }
    ]
   ],
   "version": "0.20.1"
  },
  "toc": {
   "base_numbering": 1,
   "nav_menu": {},
   "number_sections": true,
   "sideBar": true,
   "skip_h1_title": false,
   "title_cell": "Table of Contents",
   "title_sidebar": "Contents",
   "toc_cell": false,
   "toc_position": {},
   "toc_section_display": true,
   "toc_window_display": false
  }
 },
 "nbformat": 4,
 "nbformat_minor": 4
}
